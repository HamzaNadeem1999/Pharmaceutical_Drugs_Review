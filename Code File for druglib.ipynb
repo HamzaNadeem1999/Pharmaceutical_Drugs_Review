{
 "cells": [
  {
   "cell_type": "code",
   "execution_count": 3,
   "id": "initial_id",
   "metadata": {
    "ExecuteTime": {
     "end_time": "2025-02-04T02:57:47.224344Z",
     "start_time": "2025-02-04T02:57:46.939480Z"
    },
    "collapsed": true
   },
   "outputs": [],
   "source": [
    "import pandas as pd\n",
    "import numpy as np\n",
    "import matplotlib.pyplot as plt\n",
    "import seaborn as sns\n",
    "import regex as re"
   ]
  },
  {
   "cell_type": "code",
   "execution_count": 26,
   "id": "235d1fb338f926b6",
   "metadata": {
    "ExecuteTime": {
     "end_time": "2025-02-04T02:57:56.261048Z",
     "start_time": "2025-02-04T02:57:56.107366Z"
    },
    "collapsed": false
   },
   "outputs": [],
   "source": [
    "df_drugLib_train=pd.read_csv('.venv/drugLibTrain_raw.csv')\n",
    "df_drugLib_test=pd.read_csv('.venv/drugLibTest_raw.csv')"
   ]
  },
  {
   "cell_type": "code",
   "execution_count": 27,
   "id": "99532a3117adce6c",
   "metadata": {
    "ExecuteTime": {
     "end_time": "2025-02-04T02:57:58.502773Z",
     "start_time": "2025-02-04T02:57:58.477018Z"
    },
    "collapsed": false
   },
   "outputs": [
    {
     "data": {
      "text/plain": [
       "(3107, 9)"
      ]
     },
     "execution_count": 27,
     "metadata": {},
     "output_type": "execute_result"
    }
   ],
   "source": [
    "df_drugLib_train.head()\n",
    "df_drugLib_train.shape"
   ]
  },
  {
   "cell_type": "code",
   "execution_count": 28,
   "id": "5e21f65b6becad96",
   "metadata": {
    "ExecuteTime": {
     "end_time": "2025-02-04T02:58:03.131596Z",
     "start_time": "2025-02-04T02:58:03.113726Z"
    },
    "collapsed": false
   },
   "outputs": [
    {
     "data": {
      "text/plain": [
       "(1036, 9)"
      ]
     },
     "execution_count": 28,
     "metadata": {},
     "output_type": "execute_result"
    }
   ],
   "source": [
    "df_drugLib_test.head()\n",
    "df_drugLib_test.shape"
   ]
  },
  {
   "cell_type": "code",
   "execution_count": 29,
   "id": "eb840959b81bb1da",
   "metadata": {
    "ExecuteTime": {
     "end_time": "2025-02-04T02:58:04.386112Z",
     "start_time": "2025-02-04T02:58:04.376689Z"
    },
    "collapsed": false
   },
   "outputs": [
    {
     "data": {
      "text/plain": [
       "(4143, 9)"
      ]
     },
     "execution_count": 29,
     "metadata": {},
     "output_type": "execute_result"
    }
   ],
   "source": [
    "df_druglib = pd.concat([df_drugLib_train,df_drugLib_test])\n",
    "df_druglib.shape"
   ]
  },
  {
   "cell_type": "code",
   "execution_count": 30,
   "id": "6159a4826361cbd1",
   "metadata": {
    "ExecuteTime": {
     "end_time": "2025-02-04T02:58:07.776150Z",
     "start_time": "2025-02-04T02:58:07.755238Z"
    },
    "collapsed": false
   },
   "outputs": [
    {
     "data": {
      "text/html": [
       "<div>\n",
       "<style scoped>\n",
       "    .dataframe tbody tr th:only-of-type {\n",
       "        vertical-align: middle;\n",
       "    }\n",
       "\n",
       "    .dataframe tbody tr th {\n",
       "        vertical-align: top;\n",
       "    }\n",
       "\n",
       "    .dataframe thead th {\n",
       "        text-align: right;\n",
       "    }\n",
       "</style>\n",
       "<table border=\"1\" class=\"dataframe\">\n",
       "  <thead>\n",
       "    <tr style=\"text-align: right;\">\n",
       "      <th></th>\n",
       "      <th>Unnamed: 0</th>\n",
       "      <th>urlDrugName</th>\n",
       "      <th>rating</th>\n",
       "      <th>effectiveness</th>\n",
       "      <th>sideEffects</th>\n",
       "      <th>condition</th>\n",
       "      <th>benefitsReview</th>\n",
       "      <th>sideEffectsReview</th>\n",
       "      <th>commentsReview</th>\n",
       "    </tr>\n",
       "  </thead>\n",
       "  <tbody>\n",
       "    <tr>\n",
       "      <th>0</th>\n",
       "      <td>2202</td>\n",
       "      <td>enalapril</td>\n",
       "      <td>4</td>\n",
       "      <td>Highly Effective</td>\n",
       "      <td>Mild Side Effects</td>\n",
       "      <td>management of congestive heart failure</td>\n",
       "      <td>slowed the progression of left ventricular dys...</td>\n",
       "      <td>cough, hypotension , proteinuria, impotence , ...</td>\n",
       "      <td>monitor blood pressure , weight and asses for ...</td>\n",
       "    </tr>\n",
       "    <tr>\n",
       "      <th>1</th>\n",
       "      <td>3117</td>\n",
       "      <td>ortho-tri-cyclen</td>\n",
       "      <td>1</td>\n",
       "      <td>Highly Effective</td>\n",
       "      <td>Severe Side Effects</td>\n",
       "      <td>birth prevention</td>\n",
       "      <td>Although this type of birth control has more c...</td>\n",
       "      <td>Heavy Cycle, Cramps, Hot Flashes, Fatigue, Lon...</td>\n",
       "      <td>I Hate This Birth Control, I Would Not Suggest...</td>\n",
       "    </tr>\n",
       "    <tr>\n",
       "      <th>2</th>\n",
       "      <td>1146</td>\n",
       "      <td>ponstel</td>\n",
       "      <td>10</td>\n",
       "      <td>Highly Effective</td>\n",
       "      <td>No Side Effects</td>\n",
       "      <td>menstrual cramps</td>\n",
       "      <td>I was used to having cramps so badly that they...</td>\n",
       "      <td>Heavier bleeding and clotting than normal.</td>\n",
       "      <td>I took 2 pills at the onset of my menstrual cr...</td>\n",
       "    </tr>\n",
       "    <tr>\n",
       "      <th>3</th>\n",
       "      <td>3947</td>\n",
       "      <td>prilosec</td>\n",
       "      <td>3</td>\n",
       "      <td>Marginally Effective</td>\n",
       "      <td>Mild Side Effects</td>\n",
       "      <td>acid reflux</td>\n",
       "      <td>The acid reflux went away for a few months aft...</td>\n",
       "      <td>Constipation, dry mouth and some mild dizzines...</td>\n",
       "      <td>I was given Prilosec prescription at a dose of...</td>\n",
       "    </tr>\n",
       "    <tr>\n",
       "      <th>4</th>\n",
       "      <td>1951</td>\n",
       "      <td>lyrica</td>\n",
       "      <td>2</td>\n",
       "      <td>Marginally Effective</td>\n",
       "      <td>Severe Side Effects</td>\n",
       "      <td>fibromyalgia</td>\n",
       "      <td>I think that the Lyrica was starting to help w...</td>\n",
       "      <td>I felt extremely drugged and dopey.  Could not...</td>\n",
       "      <td>See above</td>\n",
       "    </tr>\n",
       "  </tbody>\n",
       "</table>\n",
       "</div>"
      ],
      "text/plain": [
       "   Unnamed: 0       urlDrugName  rating         effectiveness  \\\n",
       "0        2202         enalapril       4      Highly Effective   \n",
       "1        3117  ortho-tri-cyclen       1      Highly Effective   \n",
       "2        1146           ponstel      10      Highly Effective   \n",
       "3        3947          prilosec       3  Marginally Effective   \n",
       "4        1951            lyrica       2  Marginally Effective   \n",
       "\n",
       "           sideEffects                               condition  \\\n",
       "0    Mild Side Effects  management of congestive heart failure   \n",
       "1  Severe Side Effects                        birth prevention   \n",
       "2      No Side Effects                        menstrual cramps   \n",
       "3    Mild Side Effects                             acid reflux   \n",
       "4  Severe Side Effects                            fibromyalgia   \n",
       "\n",
       "                                      benefitsReview  \\\n",
       "0  slowed the progression of left ventricular dys...   \n",
       "1  Although this type of birth control has more c...   \n",
       "2  I was used to having cramps so badly that they...   \n",
       "3  The acid reflux went away for a few months aft...   \n",
       "4  I think that the Lyrica was starting to help w...   \n",
       "\n",
       "                                   sideEffectsReview  \\\n",
       "0  cough, hypotension , proteinuria, impotence , ...   \n",
       "1  Heavy Cycle, Cramps, Hot Flashes, Fatigue, Lon...   \n",
       "2         Heavier bleeding and clotting than normal.   \n",
       "3  Constipation, dry mouth and some mild dizzines...   \n",
       "4  I felt extremely drugged and dopey.  Could not...   \n",
       "\n",
       "                                      commentsReview  \n",
       "0  monitor blood pressure , weight and asses for ...  \n",
       "1  I Hate This Birth Control, I Would Not Suggest...  \n",
       "2  I took 2 pills at the onset of my menstrual cr...  \n",
       "3  I was given Prilosec prescription at a dose of...  \n",
       "4                                          See above  "
      ]
     },
     "execution_count": 30,
     "metadata": {},
     "output_type": "execute_result"
    }
   ],
   "source": [
    "df_druglib.head()"
   ]
  },
  {
   "cell_type": "code",
   "execution_count": 31,
   "id": "dfcba9854e75000a",
   "metadata": {
    "ExecuteTime": {
     "end_time": "2025-02-04T02:58:11.405796Z",
     "start_time": "2025-02-04T02:58:11.365921Z"
    },
    "collapsed": false
   },
   "outputs": [
    {
     "name": "stdout",
     "output_type": "stream",
     "text": [
      "<class 'pandas.core.frame.DataFrame'>\n",
      "Index: 4143 entries, 0 to 1035\n",
      "Data columns (total 9 columns):\n",
      " #   Column             Non-Null Count  Dtype \n",
      "---  ------             --------------  ----- \n",
      " 0   Unnamed: 0         4143 non-null   int64 \n",
      " 1   urlDrugName        4143 non-null   object\n",
      " 2   rating             4143 non-null   int64 \n",
      " 3   effectiveness      4143 non-null   object\n",
      " 4   sideEffects        4143 non-null   object\n",
      " 5   condition          4142 non-null   object\n",
      " 6   benefitsReview     4120 non-null   object\n",
      " 7   sideEffectsReview  4045 non-null   object\n",
      " 8   commentsReview     4130 non-null   object\n",
      "dtypes: int64(2), object(7)\n",
      "memory usage: 323.7+ KB\n"
     ]
    }
   ],
   "source": [
    "df_druglib.info()"
   ]
  },
  {
   "cell_type": "code",
   "execution_count": 32,
   "id": "b3d42cb51a980e84",
   "metadata": {
    "ExecuteTime": {
     "end_time": "2025-02-04T02:58:12.839984Z",
     "start_time": "2025-02-04T02:58:12.832052Z"
    },
    "collapsed": false
   },
   "outputs": [
    {
     "data": {
      "text/plain": [
       "Unnamed: 0            0\n",
       "urlDrugName           0\n",
       "rating                0\n",
       "effectiveness         0\n",
       "sideEffects           0\n",
       "condition             1\n",
       "benefitsReview       23\n",
       "sideEffectsReview    98\n",
       "commentsReview       13\n",
       "dtype: int64"
      ]
     },
     "execution_count": 32,
     "metadata": {},
     "output_type": "execute_result"
    }
   ],
   "source": [
    "df_druglib.isnull().sum()"
   ]
  },
  {
   "cell_type": "code",
   "execution_count": 33,
   "id": "c0965b097e06ea04",
   "metadata": {
    "ExecuteTime": {
     "end_time": "2025-02-04T02:58:14.895671Z",
     "start_time": "2025-02-04T02:58:14.876573Z"
    },
    "collapsed": false
   },
   "outputs": [
    {
     "data": {
      "text/plain": [
       "(4013, 9)"
      ]
     },
     "execution_count": 33,
     "metadata": {},
     "output_type": "execute_result"
    }
   ],
   "source": [
    "df_druglib=df_druglib.dropna()\n",
    "df_druglib.isnull().sum()\n",
    "df_druglib.shape"
   ]
  },
  {
   "cell_type": "code",
   "execution_count": 34,
   "id": "2d51ee57a5b39db9",
   "metadata": {
    "ExecuteTime": {
     "end_time": "2025-02-04T02:58:17.362702Z",
     "start_time": "2025-02-04T02:58:17.355293Z"
    },
    "collapsed": false
   },
   "outputs": [
    {
     "data": {
      "text/html": [
       "<div>\n",
       "<style scoped>\n",
       "    .dataframe tbody tr th:only-of-type {\n",
       "        vertical-align: middle;\n",
       "    }\n",
       "\n",
       "    .dataframe tbody tr th {\n",
       "        vertical-align: top;\n",
       "    }\n",
       "\n",
       "    .dataframe thead th {\n",
       "        text-align: right;\n",
       "    }\n",
       "</style>\n",
       "<table border=\"1\" class=\"dataframe\">\n",
       "  <thead>\n",
       "    <tr style=\"text-align: right;\">\n",
       "      <th></th>\n",
       "      <th>Unnamed: 0</th>\n",
       "      <th>urlDrugName</th>\n",
       "      <th>rating</th>\n",
       "      <th>effectiveness</th>\n",
       "      <th>sideEffects</th>\n",
       "      <th>condition</th>\n",
       "      <th>benefitsReview</th>\n",
       "      <th>sideEffectsReview</th>\n",
       "      <th>commentsReview</th>\n",
       "    </tr>\n",
       "  </thead>\n",
       "  <tbody>\n",
       "    <tr>\n",
       "      <th>0</th>\n",
       "      <td>2202</td>\n",
       "      <td>enalapril</td>\n",
       "      <td>4</td>\n",
       "      <td>Highly Effective</td>\n",
       "      <td>Mild Side Effects</td>\n",
       "      <td>management of congestive heart failure</td>\n",
       "      <td>slowed the progression of left ventricular dys...</td>\n",
       "      <td>cough, hypotension , proteinuria, impotence , ...</td>\n",
       "      <td>monitor blood pressure , weight and asses for ...</td>\n",
       "    </tr>\n",
       "    <tr>\n",
       "      <th>1</th>\n",
       "      <td>3117</td>\n",
       "      <td>ortho-tri-cyclen</td>\n",
       "      <td>1</td>\n",
       "      <td>Highly Effective</td>\n",
       "      <td>Severe Side Effects</td>\n",
       "      <td>birth prevention</td>\n",
       "      <td>Although this type of birth control has more c...</td>\n",
       "      <td>Heavy Cycle, Cramps, Hot Flashes, Fatigue, Lon...</td>\n",
       "      <td>I Hate This Birth Control, I Would Not Suggest...</td>\n",
       "    </tr>\n",
       "    <tr>\n",
       "      <th>2</th>\n",
       "      <td>1146</td>\n",
       "      <td>ponstel</td>\n",
       "      <td>10</td>\n",
       "      <td>Highly Effective</td>\n",
       "      <td>No Side Effects</td>\n",
       "      <td>menstrual cramps</td>\n",
       "      <td>I was used to having cramps so badly that they...</td>\n",
       "      <td>Heavier bleeding and clotting than normal.</td>\n",
       "      <td>I took 2 pills at the onset of my menstrual cr...</td>\n",
       "    </tr>\n",
       "    <tr>\n",
       "      <th>3</th>\n",
       "      <td>3947</td>\n",
       "      <td>prilosec</td>\n",
       "      <td>3</td>\n",
       "      <td>Marginally Effective</td>\n",
       "      <td>Mild Side Effects</td>\n",
       "      <td>acid reflux</td>\n",
       "      <td>The acid reflux went away for a few months aft...</td>\n",
       "      <td>Constipation, dry mouth and some mild dizzines...</td>\n",
       "      <td>I was given Prilosec prescription at a dose of...</td>\n",
       "    </tr>\n",
       "    <tr>\n",
       "      <th>4</th>\n",
       "      <td>1951</td>\n",
       "      <td>lyrica</td>\n",
       "      <td>2</td>\n",
       "      <td>Marginally Effective</td>\n",
       "      <td>Severe Side Effects</td>\n",
       "      <td>fibromyalgia</td>\n",
       "      <td>I think that the Lyrica was starting to help w...</td>\n",
       "      <td>I felt extremely drugged and dopey.  Could not...</td>\n",
       "      <td>See above</td>\n",
       "    </tr>\n",
       "    <tr>\n",
       "      <th>...</th>\n",
       "      <td>...</td>\n",
       "      <td>...</td>\n",
       "      <td>...</td>\n",
       "      <td>...</td>\n",
       "      <td>...</td>\n",
       "      <td>...</td>\n",
       "      <td>...</td>\n",
       "      <td>...</td>\n",
       "      <td>...</td>\n",
       "    </tr>\n",
       "    <tr>\n",
       "      <th>1031</th>\n",
       "      <td>690</td>\n",
       "      <td>accutane</td>\n",
       "      <td>7</td>\n",
       "      <td>Considerably Effective</td>\n",
       "      <td>Severe Side Effects</td>\n",
       "      <td>acne vulgaris</td>\n",
       "      <td>Detoxing effect by pushing out the system thro...</td>\n",
       "      <td>Hairloss, extreme dry skin, itchiness, raises ...</td>\n",
       "      <td>Treatment period is 3 months/12 weeks. Dosage ...</td>\n",
       "    </tr>\n",
       "    <tr>\n",
       "      <th>1032</th>\n",
       "      <td>1071</td>\n",
       "      <td>proair-hfa</td>\n",
       "      <td>10</td>\n",
       "      <td>Highly Effective</td>\n",
       "      <td>No Side Effects</td>\n",
       "      <td>asthma</td>\n",
       "      <td>The albuterol relieved the constriction, irrit...</td>\n",
       "      <td>I have experienced no side effects.</td>\n",
       "      <td>I use the albuterol as needed because of aller...</td>\n",
       "    </tr>\n",
       "    <tr>\n",
       "      <th>1033</th>\n",
       "      <td>681</td>\n",
       "      <td>accutane</td>\n",
       "      <td>8</td>\n",
       "      <td>Considerably Effective</td>\n",
       "      <td>Moderate Side Effects</td>\n",
       "      <td>serve acne</td>\n",
       "      <td>Serve Acne has turned to middle</td>\n",
       "      <td>Painfull muscles, problems with seeing at night</td>\n",
       "      <td>This drug is highly teratogenic ,females must ...</td>\n",
       "    </tr>\n",
       "    <tr>\n",
       "      <th>1034</th>\n",
       "      <td>2709</td>\n",
       "      <td>divigel</td>\n",
       "      <td>10</td>\n",
       "      <td>Highly Effective</td>\n",
       "      <td>No Side Effects</td>\n",
       "      <td>menopause</td>\n",
       "      <td>My overall mood, sense of well being, energy l...</td>\n",
       "      <td>No side effects of any kind were noted or appa...</td>\n",
       "      <td>Divigel is a topically applied Bio-Identical H...</td>\n",
       "    </tr>\n",
       "    <tr>\n",
       "      <th>1035</th>\n",
       "      <td>729</td>\n",
       "      <td>claripel-cream</td>\n",
       "      <td>8</td>\n",
       "      <td>Considerably Effective</td>\n",
       "      <td>Mild Side Effects</td>\n",
       "      <td>acne scarring &amp; hyperpigmentation</td>\n",
       "      <td>Up until 2 years ago, it worked really well on...</td>\n",
       "      <td>Have stopped using it and have also learned th...</td>\n",
       "      <td>Stopped using it for the time being.</td>\n",
       "    </tr>\n",
       "  </tbody>\n",
       "</table>\n",
       "<p>4013 rows × 9 columns</p>\n",
       "</div>"
      ],
      "text/plain": [
       "      Unnamed: 0       urlDrugName  rating           effectiveness  \\\n",
       "0           2202         enalapril       4        Highly Effective   \n",
       "1           3117  ortho-tri-cyclen       1        Highly Effective   \n",
       "2           1146           ponstel      10        Highly Effective   \n",
       "3           3947          prilosec       3    Marginally Effective   \n",
       "4           1951            lyrica       2    Marginally Effective   \n",
       "...          ...               ...     ...                     ...   \n",
       "1031         690          accutane       7  Considerably Effective   \n",
       "1032        1071        proair-hfa      10        Highly Effective   \n",
       "1033         681          accutane       8  Considerably Effective   \n",
       "1034        2709           divigel      10        Highly Effective   \n",
       "1035         729    claripel-cream       8  Considerably Effective   \n",
       "\n",
       "                sideEffects                               condition  \\\n",
       "0         Mild Side Effects  management of congestive heart failure   \n",
       "1       Severe Side Effects                        birth prevention   \n",
       "2           No Side Effects                        menstrual cramps   \n",
       "3         Mild Side Effects                             acid reflux   \n",
       "4       Severe Side Effects                            fibromyalgia   \n",
       "...                     ...                                     ...   \n",
       "1031    Severe Side Effects                           acne vulgaris   \n",
       "1032        No Side Effects                                  asthma   \n",
       "1033  Moderate Side Effects                              serve acne   \n",
       "1034        No Side Effects                               menopause   \n",
       "1035      Mild Side Effects       acne scarring & hyperpigmentation   \n",
       "\n",
       "                                         benefitsReview  \\\n",
       "0     slowed the progression of left ventricular dys...   \n",
       "1     Although this type of birth control has more c...   \n",
       "2     I was used to having cramps so badly that they...   \n",
       "3     The acid reflux went away for a few months aft...   \n",
       "4     I think that the Lyrica was starting to help w...   \n",
       "...                                                 ...   \n",
       "1031  Detoxing effect by pushing out the system thro...   \n",
       "1032  The albuterol relieved the constriction, irrit...   \n",
       "1033                    Serve Acne has turned to middle   \n",
       "1034  My overall mood, sense of well being, energy l...   \n",
       "1035  Up until 2 years ago, it worked really well on...   \n",
       "\n",
       "                                      sideEffectsReview  \\\n",
       "0     cough, hypotension , proteinuria, impotence , ...   \n",
       "1     Heavy Cycle, Cramps, Hot Flashes, Fatigue, Lon...   \n",
       "2            Heavier bleeding and clotting than normal.   \n",
       "3     Constipation, dry mouth and some mild dizzines...   \n",
       "4     I felt extremely drugged and dopey.  Could not...   \n",
       "...                                                 ...   \n",
       "1031  Hairloss, extreme dry skin, itchiness, raises ...   \n",
       "1032                I have experienced no side effects.   \n",
       "1033    Painfull muscles, problems with seeing at night   \n",
       "1034  No side effects of any kind were noted or appa...   \n",
       "1035  Have stopped using it and have also learned th...   \n",
       "\n",
       "                                         commentsReview  \n",
       "0     monitor blood pressure , weight and asses for ...  \n",
       "1     I Hate This Birth Control, I Would Not Suggest...  \n",
       "2     I took 2 pills at the onset of my menstrual cr...  \n",
       "3     I was given Prilosec prescription at a dose of...  \n",
       "4                                             See above  \n",
       "...                                                 ...  \n",
       "1031  Treatment period is 3 months/12 weeks. Dosage ...  \n",
       "1032  I use the albuterol as needed because of aller...  \n",
       "1033  This drug is highly teratogenic ,females must ...  \n",
       "1034  Divigel is a topically applied Bio-Identical H...  \n",
       "1035               Stopped using it for the time being.  \n",
       "\n",
       "[4013 rows x 9 columns]"
      ]
     },
     "execution_count": 34,
     "metadata": {},
     "output_type": "execute_result"
    }
   ],
   "source": [
    "df_druglib"
   ]
  },
  {
   "cell_type": "code",
   "execution_count": 35,
   "id": "860912a934257f73",
   "metadata": {
    "ExecuteTime": {
     "end_time": "2025-02-04T02:58:20.947623Z",
     "start_time": "2025-02-04T02:58:20.932030Z"
    },
    "collapsed": false
   },
   "outputs": [
    {
     "data": {
      "text/plain": [
       "array(['Highly Effective', 'Marginally Effective', 'Ineffective',\n",
       "       'Considerably Effective', 'Moderately Effective'], dtype=object)"
      ]
     },
     "execution_count": 35,
     "metadata": {},
     "output_type": "execute_result"
    }
   ],
   "source": [
    "df_druglib['effectiveness'].unique()"
   ]
  },
  {
   "cell_type": "code",
   "execution_count": 36,
   "id": "afcdb12f292c317a",
   "metadata": {
    "ExecuteTime": {
     "end_time": "2025-02-04T02:58:32.119962Z",
     "start_time": "2025-02-04T02:58:32.097679Z"
    },
    "collapsed": false
   },
   "outputs": [
    {
     "data": {
      "text/plain": [
       "array(['Mild Side Effects', 'Severe Side Effects', 'No Side Effects',\n",
       "       'Extremely Severe Side Effects', 'Moderate Side Effects'],\n",
       "      dtype=object)"
      ]
     },
     "execution_count": 36,
     "metadata": {},
     "output_type": "execute_result"
    }
   ],
   "source": [
    "df_druglib['sideEffects'].unique()"
   ]
  },
  {
   "cell_type": "code",
   "execution_count": 37,
   "id": "ae23722826147545",
   "metadata": {
    "ExecuteTime": {
     "end_time": "2025-02-04T02:58:35.988223Z",
     "start_time": "2025-02-04T02:58:35.974603Z"
    },
    "collapsed": false
   },
   "outputs": [],
   "source": [
    "#Mapping Side-Effects and Effectiveness to numerals\n",
    "# Map effectiveness column into ordinal data\n",
    "effectiveness_map = {\n",
    "    'Ineffective': 1,\n",
    "    'Marginally Effective': 2,\n",
    "    'Moderately Effective': 3,\n",
    "    'Considerably Effective': 4,\n",
    "    'Highly Effective': 5\n",
    "}\n",
    "\n",
    "df_druglib['effectiveness_rank'] = df_druglib['effectiveness'].map(effectiveness_map)"
   ]
  },
  {
   "cell_type": "code",
   "execution_count": 38,
   "id": "2e340db52531f8b3",
   "metadata": {
    "ExecuteTime": {
     "end_time": "2025-02-04T02:58:37.698149Z",
     "start_time": "2025-02-04T02:58:37.692768Z"
    },
    "collapsed": false
   },
   "outputs": [],
   "source": [
    "# Map sideEffects column into ordinal data\n",
    "sideEffects_map = {\n",
    "    'No Side Effects': 1,\n",
    "    'Mild Side Effects': 2,\n",
    "    'Moderate Side Effects': 3,\n",
    "    'Severe Side Effects': 4,\n",
    "    'Extremely Severe Side Effects': 5\n",
    "}\n",
    "\n",
    "df_druglib['sideEffects_rank'] = df_druglib['sideEffects'].map(sideEffects_map)"
   ]
  },
  {
   "cell_type": "code",
   "execution_count": 39,
   "id": "3f32a82da6d4c2f9",
   "metadata": {
    "ExecuteTime": {
     "end_time": "2025-02-04T02:13:40.327335Z",
     "start_time": "2025-02-04T02:13:40.320286Z"
    },
    "collapsed": false
   },
   "outputs": [
    {
     "data": {
      "text/html": [
       "<div>\n",
       "<style scoped>\n",
       "    .dataframe tbody tr th:only-of-type {\n",
       "        vertical-align: middle;\n",
       "    }\n",
       "\n",
       "    .dataframe tbody tr th {\n",
       "        vertical-align: top;\n",
       "    }\n",
       "\n",
       "    .dataframe thead th {\n",
       "        text-align: right;\n",
       "    }\n",
       "</style>\n",
       "<table border=\"1\" class=\"dataframe\">\n",
       "  <thead>\n",
       "    <tr style=\"text-align: right;\">\n",
       "      <th></th>\n",
       "      <th>effectiveness</th>\n",
       "      <th>effectiveness_rank</th>\n",
       "    </tr>\n",
       "  </thead>\n",
       "  <tbody>\n",
       "    <tr>\n",
       "      <th>5</th>\n",
       "      <td>Ineffective</td>\n",
       "      <td>1</td>\n",
       "    </tr>\n",
       "    <tr>\n",
       "      <th>3</th>\n",
       "      <td>Marginally Effective</td>\n",
       "      <td>2</td>\n",
       "    </tr>\n",
       "    <tr>\n",
       "      <th>16</th>\n",
       "      <td>Moderately Effective</td>\n",
       "      <td>3</td>\n",
       "    </tr>\n",
       "    <tr>\n",
       "      <th>7</th>\n",
       "      <td>Considerably Effective</td>\n",
       "      <td>4</td>\n",
       "    </tr>\n",
       "    <tr>\n",
       "      <th>0</th>\n",
       "      <td>Highly Effective</td>\n",
       "      <td>5</td>\n",
       "    </tr>\n",
       "  </tbody>\n",
       "</table>\n",
       "</div>"
      ],
      "text/plain": [
       "             effectiveness  effectiveness_rank\n",
       "5              Ineffective                   1\n",
       "3     Marginally Effective                   2\n",
       "16    Moderately Effective                   3\n",
       "7   Considerably Effective                   4\n",
       "0         Highly Effective                   5"
      ]
     },
     "execution_count": 39,
     "metadata": {},
     "output_type": "execute_result"
    }
   ],
   "source": [
    "df_druglib[['effectiveness','effectiveness_rank']].drop_duplicates().sort_values(by='effectiveness_rank')"
   ]
  },
  {
   "cell_type": "code",
   "execution_count": 40,
   "id": "adf795aa9a2f859f",
   "metadata": {
    "ExecuteTime": {
     "end_time": "2025-02-04T02:58:41.437515Z",
     "start_time": "2025-02-04T02:58:41.403602Z"
    },
    "collapsed": false
   },
   "outputs": [
    {
     "data": {
      "text/html": [
       "<div>\n",
       "<style scoped>\n",
       "    .dataframe tbody tr th:only-of-type {\n",
       "        vertical-align: middle;\n",
       "    }\n",
       "\n",
       "    .dataframe tbody tr th {\n",
       "        vertical-align: top;\n",
       "    }\n",
       "\n",
       "    .dataframe thead th {\n",
       "        text-align: right;\n",
       "    }\n",
       "</style>\n",
       "<table border=\"1\" class=\"dataframe\">\n",
       "  <thead>\n",
       "    <tr style=\"text-align: right;\">\n",
       "      <th></th>\n",
       "      <th>sideEffects</th>\n",
       "      <th>sideEffects_rank</th>\n",
       "    </tr>\n",
       "  </thead>\n",
       "  <tbody>\n",
       "    <tr>\n",
       "      <th>2</th>\n",
       "      <td>No Side Effects</td>\n",
       "      <td>1</td>\n",
       "    </tr>\n",
       "    <tr>\n",
       "      <th>0</th>\n",
       "      <td>Mild Side Effects</td>\n",
       "      <td>2</td>\n",
       "    </tr>\n",
       "    <tr>\n",
       "      <th>10</th>\n",
       "      <td>Moderate Side Effects</td>\n",
       "      <td>3</td>\n",
       "    </tr>\n",
       "    <tr>\n",
       "      <th>1</th>\n",
       "      <td>Severe Side Effects</td>\n",
       "      <td>4</td>\n",
       "    </tr>\n",
       "    <tr>\n",
       "      <th>9</th>\n",
       "      <td>Extremely Severe Side Effects</td>\n",
       "      <td>5</td>\n",
       "    </tr>\n",
       "  </tbody>\n",
       "</table>\n",
       "</div>"
      ],
      "text/plain": [
       "                      sideEffects  sideEffects_rank\n",
       "2                 No Side Effects                 1\n",
       "0               Mild Side Effects                 2\n",
       "10          Moderate Side Effects                 3\n",
       "1             Severe Side Effects                 4\n",
       "9   Extremely Severe Side Effects                 5"
      ]
     },
     "execution_count": 40,
     "metadata": {},
     "output_type": "execute_result"
    }
   ],
   "source": [
    "df_druglib[['sideEffects','sideEffects_rank']].drop_duplicates().sort_values(by='sideEffects_rank')"
   ]
  },
  {
   "cell_type": "code",
   "execution_count": 41,
   "id": "c906bf3cc11d0d24",
   "metadata": {
    "ExecuteTime": {
     "end_time": "2025-02-04T02:58:53.872675Z",
     "start_time": "2025-02-04T02:58:53.834520Z"
    },
    "collapsed": false
   },
   "outputs": [
    {
     "data": {
      "text/html": [
       "<div>\n",
       "<style scoped>\n",
       "    .dataframe tbody tr th:only-of-type {\n",
       "        vertical-align: middle;\n",
       "    }\n",
       "\n",
       "    .dataframe tbody tr th {\n",
       "        vertical-align: top;\n",
       "    }\n",
       "\n",
       "    .dataframe thead th {\n",
       "        text-align: right;\n",
       "    }\n",
       "</style>\n",
       "<table border=\"1\" class=\"dataframe\">\n",
       "  <thead>\n",
       "    <tr style=\"text-align: right;\">\n",
       "      <th></th>\n",
       "      <th>Unnamed: 0</th>\n",
       "      <th>urlDrugName</th>\n",
       "      <th>rating</th>\n",
       "      <th>effectiveness</th>\n",
       "      <th>sideEffects</th>\n",
       "      <th>condition</th>\n",
       "      <th>benefitsReview</th>\n",
       "      <th>sideEffectsReview</th>\n",
       "      <th>commentsReview</th>\n",
       "      <th>effectiveness_rank</th>\n",
       "      <th>sideEffects_rank</th>\n",
       "    </tr>\n",
       "  </thead>\n",
       "  <tbody>\n",
       "    <tr>\n",
       "      <th>0</th>\n",
       "      <td>2202</td>\n",
       "      <td>enalapril</td>\n",
       "      <td>4</td>\n",
       "      <td>Highly Effective</td>\n",
       "      <td>Mild Side Effects</td>\n",
       "      <td>management of congestive heart failure</td>\n",
       "      <td>slowed the progression of left ventricular dys...</td>\n",
       "      <td>cough, hypotension , proteinuria, impotence , ...</td>\n",
       "      <td>monitor blood pressure , weight and asses for ...</td>\n",
       "      <td>5</td>\n",
       "      <td>2</td>\n",
       "    </tr>\n",
       "    <tr>\n",
       "      <th>1</th>\n",
       "      <td>3117</td>\n",
       "      <td>ortho-tri-cyclen</td>\n",
       "      <td>1</td>\n",
       "      <td>Highly Effective</td>\n",
       "      <td>Severe Side Effects</td>\n",
       "      <td>birth prevention</td>\n",
       "      <td>Although this type of birth control has more c...</td>\n",
       "      <td>Heavy Cycle, Cramps, Hot Flashes, Fatigue, Lon...</td>\n",
       "      <td>I Hate This Birth Control, I Would Not Suggest...</td>\n",
       "      <td>5</td>\n",
       "      <td>4</td>\n",
       "    </tr>\n",
       "    <tr>\n",
       "      <th>2</th>\n",
       "      <td>1146</td>\n",
       "      <td>ponstel</td>\n",
       "      <td>10</td>\n",
       "      <td>Highly Effective</td>\n",
       "      <td>No Side Effects</td>\n",
       "      <td>menstrual cramps</td>\n",
       "      <td>I was used to having cramps so badly that they...</td>\n",
       "      <td>Heavier bleeding and clotting than normal.</td>\n",
       "      <td>I took 2 pills at the onset of my menstrual cr...</td>\n",
       "      <td>5</td>\n",
       "      <td>1</td>\n",
       "    </tr>\n",
       "    <tr>\n",
       "      <th>3</th>\n",
       "      <td>3947</td>\n",
       "      <td>prilosec</td>\n",
       "      <td>3</td>\n",
       "      <td>Marginally Effective</td>\n",
       "      <td>Mild Side Effects</td>\n",
       "      <td>acid reflux</td>\n",
       "      <td>The acid reflux went away for a few months aft...</td>\n",
       "      <td>Constipation, dry mouth and some mild dizzines...</td>\n",
       "      <td>I was given Prilosec prescription at a dose of...</td>\n",
       "      <td>2</td>\n",
       "      <td>2</td>\n",
       "    </tr>\n",
       "    <tr>\n",
       "      <th>4</th>\n",
       "      <td>1951</td>\n",
       "      <td>lyrica</td>\n",
       "      <td>2</td>\n",
       "      <td>Marginally Effective</td>\n",
       "      <td>Severe Side Effects</td>\n",
       "      <td>fibromyalgia</td>\n",
       "      <td>I think that the Lyrica was starting to help w...</td>\n",
       "      <td>I felt extremely drugged and dopey.  Could not...</td>\n",
       "      <td>See above</td>\n",
       "      <td>2</td>\n",
       "      <td>4</td>\n",
       "    </tr>\n",
       "  </tbody>\n",
       "</table>\n",
       "</div>"
      ],
      "text/plain": [
       "   Unnamed: 0       urlDrugName  rating         effectiveness  \\\n",
       "0        2202         enalapril       4      Highly Effective   \n",
       "1        3117  ortho-tri-cyclen       1      Highly Effective   \n",
       "2        1146           ponstel      10      Highly Effective   \n",
       "3        3947          prilosec       3  Marginally Effective   \n",
       "4        1951            lyrica       2  Marginally Effective   \n",
       "\n",
       "           sideEffects                               condition  \\\n",
       "0    Mild Side Effects  management of congestive heart failure   \n",
       "1  Severe Side Effects                        birth prevention   \n",
       "2      No Side Effects                        menstrual cramps   \n",
       "3    Mild Side Effects                             acid reflux   \n",
       "4  Severe Side Effects                            fibromyalgia   \n",
       "\n",
       "                                      benefitsReview  \\\n",
       "0  slowed the progression of left ventricular dys...   \n",
       "1  Although this type of birth control has more c...   \n",
       "2  I was used to having cramps so badly that they...   \n",
       "3  The acid reflux went away for a few months aft...   \n",
       "4  I think that the Lyrica was starting to help w...   \n",
       "\n",
       "                                   sideEffectsReview  \\\n",
       "0  cough, hypotension , proteinuria, impotence , ...   \n",
       "1  Heavy Cycle, Cramps, Hot Flashes, Fatigue, Lon...   \n",
       "2         Heavier bleeding and clotting than normal.   \n",
       "3  Constipation, dry mouth and some mild dizzines...   \n",
       "4  I felt extremely drugged and dopey.  Could not...   \n",
       "\n",
       "                                      commentsReview  effectiveness_rank  \\\n",
       "0  monitor blood pressure , weight and asses for ...                   5   \n",
       "1  I Hate This Birth Control, I Would Not Suggest...                   5   \n",
       "2  I took 2 pills at the onset of my menstrual cr...                   5   \n",
       "3  I was given Prilosec prescription at a dose of...                   2   \n",
       "4                                          See above                   2   \n",
       "\n",
       "   sideEffects_rank  \n",
       "0                 2  \n",
       "1                 4  \n",
       "2                 1  \n",
       "3                 2  \n",
       "4                 4  "
      ]
     },
     "execution_count": 41,
     "metadata": {},
     "output_type": "execute_result"
    }
   ],
   "source": [
    "df_druglib.head()"
   ]
  },
  {
   "cell_type": "code",
   "execution_count": 42,
   "id": "4d0f0acc3555f02e",
   "metadata": {
    "ExecuteTime": {
     "end_time": "2025-02-04T03:04:12.822674Z",
     "start_time": "2025-02-04T03:04:12.670073Z"
    },
    "collapsed": false
   },
   "outputs": [
    {
     "data": {
      "image/png": "[encoded data removed]",
      "text/plain": [
       "<Figure size 1000x600 with 1 Axes>"
      ]
     },
     "metadata": {},
     "output_type": "display_data"
    }
   ],
   "source": [
    "# Plotting horizontal bar chart to show drug's effectiveness and side effects distribution\n",
    "effectiveness_order = [\n",
    "    'Ineffective',\n",
    "    'Marginally Effective',\n",
    "    'Moderately Effective',\n",
    "    'Considerably Effective',\n",
    "    'Highly Effective'\n",
    "]\n",
    "\n",
    "sideEffects_order = [\n",
    "    'No Side Effects',\n",
    "    'Mild Side Effects',\n",
    "    'Moderate Side Effects',\n",
    "    'Severe Side Effects',\n",
    "    'Extremely Severe Side Effects'\n",
    "]\n",
    "\n",
    "sideEffects_color = sns.color_palette(\"Reds\", len(sideEffects_order))\n",
    "data_bar1 = df_druglib.pivot_table(index='effectiveness',columns='sideEffects',values='commentsReview',aggfunc='count')\n",
    "data_bar1 = data_bar1.reindex(index=effectiveness_order,columns=sideEffects_order)\n",
    "\n",
    "ax = data_bar1.plot(kind='barh',stacked=True,color=sideEffects_color,figsize=(10, 6))\n",
    "\n",
    "plt.title('Effectiveness vs. Side Effects (Review Counts)', fontsize=14)\n",
    "plt.ylabel('Effectiveness', fontsize=12)\n",
    "plt.xlabel('Number of Reviews', fontsize=12)\n",
    "\n",
    "# Customize legend\n",
    "handles, labels = ax.get_legend_handles_labels()\n",
    "ax.legend(handles, labels, title='Side Effects', bbox_to_anchor=(1,1.02), loc='upper left')\n",
    "\n",
    "plt.show()"
   ]
  },
  {
   "cell_type": "code",
   "execution_count": 43,
   "id": "9e3bd3e4355e2478",
   "metadata": {
    "ExecuteTime": {
     "end_time": "2025-02-04T03:04:22.991485Z",
     "start_time": "2025-02-04T03:04:22.805827Z"
    },
    "collapsed": false
   },
   "outputs": [
    {
     "data": {
      "image/png": "[encoded data removed]",
      "text/plain": [
       "<Figure size 1000x600 with 1 Axes>"
      ]
     },
     "metadata": {},
     "output_type": "display_data"
    }
   ],
   "source": [
    "# Calculate row-wise sum for normalization\n",
    "row_sums = data_bar1.sum(axis=1)\n",
    "\n",
    "# Calculate percentages\n",
    "data_percent = data_bar1.div(row_sums, axis=0) * 100\n",
    "\n",
    "# Plotting\n",
    "ax = data_percent.plot.barh(stacked=True,color=sideEffects_color,figsize=(10, 6))\n",
    "plt.title('Effectiveness vs. Side Effects (Percentage)', fontsize=14)\n",
    "plt.ylabel('Effectiveness', fontsize=12)\n",
    "plt.xlabel('Percentage (%)', fontsize=12)\n",
    "\n",
    "for c in ax.containers:\n",
    "\n",
    "    # customize the label to account for cases when there might not be a bar section\n",
    "    labels = [f'{w:.2f}%' if (w := v.get_width()) > 0 else '' for v in c ]\n",
    "\n",
    "    # set the bar label\n",
    "    ax.bar_label(c, labels=labels, label_type='center', fontsize=6)\n",
    "\n",
    "ax.legend(bbox_to_anchor=(1,1.02), loc='upper left')\n",
    "\n",
    "plt.show()"
   ]
  },
  {
   "cell_type": "code",
   "execution_count": 44,
   "id": "6a9ef62a8910489d",
   "metadata": {
    "ExecuteTime": {
     "end_time": "2025-02-04T03:04:47.200881Z",
     "start_time": "2025-02-04T03:04:47.186916Z"
    },
    "collapsed": false
   },
   "outputs": [
    {
     "data": {
      "text/html": [
       "<div>\n",
       "<style scoped>\n",
       "    .dataframe tbody tr th:only-of-type {\n",
       "        vertical-align: middle;\n",
       "    }\n",
       "\n",
       "    .dataframe tbody tr th {\n",
       "        vertical-align: top;\n",
       "    }\n",
       "\n",
       "    .dataframe thead th {\n",
       "        text-align: right;\n",
       "    }\n",
       "</style>\n",
       "<table border=\"1\" class=\"dataframe\">\n",
       "  <thead>\n",
       "    <tr style=\"text-align: right;\">\n",
       "      <th>sideEffects</th>\n",
       "      <th>No Side Effects</th>\n",
       "      <th>Mild Side Effects</th>\n",
       "      <th>Moderate Side Effects</th>\n",
       "      <th>Severe Side Effects</th>\n",
       "      <th>Extremely Severe Side Effects</th>\n",
       "    </tr>\n",
       "    <tr>\n",
       "      <th>effectiveness</th>\n",
       "      <th></th>\n",
       "      <th></th>\n",
       "      <th></th>\n",
       "      <th></th>\n",
       "      <th></th>\n",
       "    </tr>\n",
       "  </thead>\n",
       "  <tbody>\n",
       "    <tr>\n",
       "      <th>Ineffective</th>\n",
       "      <td>33</td>\n",
       "      <td>27</td>\n",
       "      <td>56</td>\n",
       "      <td>91</td>\n",
       "      <td>102</td>\n",
       "    </tr>\n",
       "    <tr>\n",
       "      <th>Marginally Effective</th>\n",
       "      <td>36</td>\n",
       "      <td>52</td>\n",
       "      <td>70</td>\n",
       "      <td>69</td>\n",
       "      <td>23</td>\n",
       "    </tr>\n",
       "    <tr>\n",
       "      <th>Moderately Effective</th>\n",
       "      <td>101</td>\n",
       "      <td>158</td>\n",
       "      <td>175</td>\n",
       "      <td>95</td>\n",
       "      <td>38</td>\n",
       "    </tr>\n",
       "    <tr>\n",
       "      <th>Considerably Effective</th>\n",
       "      <td>292</td>\n",
       "      <td>484</td>\n",
       "      <td>273</td>\n",
       "      <td>116</td>\n",
       "      <td>44</td>\n",
       "    </tr>\n",
       "    <tr>\n",
       "      <th>Highly Effective</th>\n",
       "      <td>636</td>\n",
       "      <td>621</td>\n",
       "      <td>271</td>\n",
       "      <td>111</td>\n",
       "      <td>39</td>\n",
       "    </tr>\n",
       "  </tbody>\n",
       "</table>\n",
       "</div>"
      ],
      "text/plain": [
       "sideEffects             No Side Effects  Mild Side Effects  \\\n",
       "effectiveness                                                \n",
       "Ineffective                          33                 27   \n",
       "Marginally Effective                 36                 52   \n",
       "Moderately Effective                101                158   \n",
       "Considerably Effective              292                484   \n",
       "Highly Effective                    636                621   \n",
       "\n",
       "sideEffects             Moderate Side Effects  Severe Side Effects  \\\n",
       "effectiveness                                                        \n",
       "Ineffective                                56                   91   \n",
       "Marginally Effective                       70                   69   \n",
       "Moderately Effective                      175                   95   \n",
       "Considerably Effective                    273                  116   \n",
       "Highly Effective                          271                  111   \n",
       "\n",
       "sideEffects             Extremely Severe Side Effects  \n",
       "effectiveness                                          \n",
       "Ineffective                                       102  \n",
       "Marginally Effective                               23  \n",
       "Moderately Effective                               38  \n",
       "Considerably Effective                             44  \n",
       "Highly Effective                                   39  "
      ]
     },
     "execution_count": 44,
     "metadata": {},
     "output_type": "execute_result"
    }
   ],
   "source": [
    "data_bar1"
   ]
  },
  {
   "cell_type": "code",
   "execution_count": 45,
   "id": "c04cfe89ece1c98f",
   "metadata": {
    "ExecuteTime": {
     "end_time": "2025-02-04T03:04:55.797630Z",
     "start_time": "2025-02-04T03:04:55.780006Z"
    },
    "collapsed": false
   },
   "outputs": [
    {
     "data": {
      "text/html": [
       "<div>\n",
       "<style scoped>\n",
       "    .dataframe tbody tr th:only-of-type {\n",
       "        vertical-align: middle;\n",
       "    }\n",
       "\n",
       "    .dataframe tbody tr th {\n",
       "        vertical-align: top;\n",
       "    }\n",
       "\n",
       "    .dataframe thead th {\n",
       "        text-align: right;\n",
       "    }\n",
       "</style>\n",
       "<table border=\"1\" class=\"dataframe\">\n",
       "  <thead>\n",
       "    <tr style=\"text-align: right;\">\n",
       "      <th>sideEffects</th>\n",
       "      <th>No Side Effects</th>\n",
       "      <th>Mild Side Effects</th>\n",
       "      <th>Moderate Side Effects</th>\n",
       "      <th>Severe Side Effects</th>\n",
       "      <th>Extremely Severe Side Effects</th>\n",
       "    </tr>\n",
       "    <tr>\n",
       "      <th>effectiveness</th>\n",
       "      <th></th>\n",
       "      <th></th>\n",
       "      <th></th>\n",
       "      <th></th>\n",
       "      <th></th>\n",
       "    </tr>\n",
       "  </thead>\n",
       "  <tbody>\n",
       "    <tr>\n",
       "      <th>Ineffective</th>\n",
       "      <td>10.679612</td>\n",
       "      <td>8.737864</td>\n",
       "      <td>18.122977</td>\n",
       "      <td>29.449838</td>\n",
       "      <td>33.009709</td>\n",
       "    </tr>\n",
       "    <tr>\n",
       "      <th>Marginally Effective</th>\n",
       "      <td>14.400000</td>\n",
       "      <td>20.800000</td>\n",
       "      <td>28.000000</td>\n",
       "      <td>27.600000</td>\n",
       "      <td>9.200000</td>\n",
       "    </tr>\n",
       "    <tr>\n",
       "      <th>Moderately Effective</th>\n",
       "      <td>17.813051</td>\n",
       "      <td>27.865961</td>\n",
       "      <td>30.864198</td>\n",
       "      <td>16.754850</td>\n",
       "      <td>6.701940</td>\n",
       "    </tr>\n",
       "    <tr>\n",
       "      <th>Considerably Effective</th>\n",
       "      <td>24.152192</td>\n",
       "      <td>40.033085</td>\n",
       "      <td>22.580645</td>\n",
       "      <td>9.594706</td>\n",
       "      <td>3.639371</td>\n",
       "    </tr>\n",
       "    <tr>\n",
       "      <th>Highly Effective</th>\n",
       "      <td>37.902265</td>\n",
       "      <td>37.008343</td>\n",
       "      <td>16.150179</td>\n",
       "      <td>6.615018</td>\n",
       "      <td>2.324195</td>\n",
       "    </tr>\n",
       "  </tbody>\n",
       "</table>\n",
       "</div>"
      ],
      "text/plain": [
       "sideEffects             No Side Effects  Mild Side Effects  \\\n",
       "effectiveness                                                \n",
       "Ineffective                   10.679612           8.737864   \n",
       "Marginally Effective          14.400000          20.800000   \n",
       "Moderately Effective          17.813051          27.865961   \n",
       "Considerably Effective        24.152192          40.033085   \n",
       "Highly Effective              37.902265          37.008343   \n",
       "\n",
       "sideEffects             Moderate Side Effects  Severe Side Effects  \\\n",
       "effectiveness                                                        \n",
       "Ineffective                         18.122977            29.449838   \n",
       "Marginally Effective                28.000000            27.600000   \n",
       "Moderately Effective                30.864198            16.754850   \n",
       "Considerably Effective              22.580645             9.594706   \n",
       "Highly Effective                    16.150179             6.615018   \n",
       "\n",
       "sideEffects             Extremely Severe Side Effects  \n",
       "effectiveness                                          \n",
       "Ineffective                                 33.009709  \n",
       "Marginally Effective                         9.200000  \n",
       "Moderately Effective                         6.701940  \n",
       "Considerably Effective                       3.639371  \n",
       "Highly Effective                             2.324195  "
      ]
     },
     "execution_count": 45,
     "metadata": {},
     "output_type": "execute_result"
    }
   ],
   "source": [
    "data_percent"
   ]
  },
  {
   "cell_type": "code",
   "execution_count": 46,
   "id": "7e18b2aa0f7b9f86",
   "metadata": {
    "ExecuteTime": {
     "end_time": "2025-02-04T03:06:01.192834Z",
     "start_time": "2025-02-04T03:06:01.094076Z"
    },
    "collapsed": false
   },
   "outputs": [
    {
     "data": {
      "image/png": "[encoded data removed]",
      "text/plain": [
       "<Figure size 800x400 with 2 Axes>"
      ]
     },
     "metadata": {},
     "output_type": "display_data"
    }
   ],
   "source": [
    "# Plot heatmap\n",
    "plt.figure(figsize=(8, 4))\n",
    "heatmap = sns.heatmap(df_druglib[['effectiveness_rank','sideEffects_rank','rating']].corr(), annot=True, cmap='Reds', cbar=True)\n",
    "\n",
    "# Custom x and y labels\n",
    "x_labels = ['Effectiveness', 'Side Effects', 'Rating']\n",
    "y_labels = ['Effectiveness', 'Side Effects', 'Rating']\n",
    "\n",
    "# Set the x and y labels\n",
    "heatmap.set_xticklabels(x_labels, rotation=0)\n",
    "heatmap.set_yticklabels(y_labels, rotation=0)\n",
    "\n",
    "plt.title(\"Drug's Effectiveness, Side Effects, and Rating Correlation\")\n",
    "\n",
    "plt.show()"
   ]
  },
  {
   "cell_type": "code",
   "execution_count": 47,
   "id": "9bdcb861663e8770",
   "metadata": {
    "ExecuteTime": {
     "end_time": "2025-02-04T03:06:12.801308Z",
     "start_time": "2025-02-04T03:06:12.105417Z"
    },
    "collapsed": false
   },
   "outputs": [
    {
     "data": {
      "image/png": "[encoded data removed]",
      "text/plain": [
       "<Figure size 1500x700 with 2 Axes>"
      ]
     },
     "metadata": {},
     "output_type": "display_data"
    }
   ],
   "source": [
    "# Cross-tabulate the data\n",
    "heatmap_data = pd.crosstab(index=[df_druglib['effectiveness_rank'], df_druglib['sideEffects_rank']], columns=df_druglib['rating'])\n",
    "\n",
    "# Plot heatmap\n",
    "plt.figure(figsize=(15, 7))\n",
    "sns.heatmap(heatmap_data, annot=True, cmap='viridis', cbar=True)\n",
    "\n",
    "plt.xlabel(\"Drug's Rating\")\n",
    "plt.ylabel('Effectiveness and Side Effects')\n",
    "plt.title(\"Drug's Effectiveness, Side Effects, and Rating Correlation 3d Heatmap\")\n",
    "\n",
    "plt.show()"
   ]
  },
  {
   "cell_type": "markdown",
   "id": "3d7c342f999a7daf",
   "metadata": {
    "collapsed": false
   },
   "source": []
  },
  {
   "cell_type": "code",
   "execution_count": 48,
   "id": "8c19df1ba9c4b586",
   "metadata": {
    "ExecuteTime": {
     "end_time": "2025-02-04T03:13:06.963555Z",
     "start_time": "2025-02-04T03:13:06.827384Z"
    },
    "collapsed": false
   },
   "outputs": [
    {
     "name": "stderr",
     "output_type": "stream",
     "text": [
      "[nltk_data] Downloading package punkt_tab to\n",
      "[nltk_data]     /Users/hamzanadeemsiddiqui/nltk_data...\n",
      "[nltk_data]   Package punkt_tab is already up-to-date!\n",
      "[nltk_data] Downloading package punkt to\n",
      "[nltk_data]     /Users/hamzanadeemsiddiqui/nltk_data...\n",
      "[nltk_data]   Package punkt is already up-to-date!\n",
      "[nltk_data] Downloading package stopwords to\n",
      "[nltk_data]     /Users/hamzanadeemsiddiqui/nltk_data...\n",
      "[nltk_data]   Package stopwords is already up-to-date!\n"
     ]
    },
    {
     "data": {
      "text/plain": [
       "True"
      ]
     },
     "execution_count": 48,
     "metadata": {},
     "output_type": "execute_result"
    }
   ],
   "source": [
    "import nltk\n",
    "import ssl\n",
    "\n",
    "# Disable SSL verification (not recommended for production)\n",
    "try:\n",
    "    _create_unverified_https_context = ssl._create_unverified_context\n",
    "except AttributeError:\n",
    "    pass\n",
    "else:\n",
    "    ssl._create_default_https_context = _create_unverified_https_context\n",
    "\n",
    "# Now download the required NLTK data\n",
    "nltk.download('punkt_tab')\n",
    "nltk.download('punkt')\n",
    "nltk.download('stopwords')"
   ]
  },
  {
   "cell_type": "code",
   "execution_count": 49,
   "id": "4b035fec63ec615b",
   "metadata": {
    "ExecuteTime": {
     "end_time": "2025-02-04T03:10:18.609699Z",
     "start_time": "2025-02-04T03:10:18.563225Z"
    },
    "collapsed": false
   },
   "outputs": [
    {
     "name": "stderr",
     "output_type": "stream",
     "text": [
      "[nltk_data] Downloading package punkt_tab to\n",
      "[nltk_data]     /Users/hamzanadeemsiddiqui/nltk_data...\n",
      "[nltk_data]   Package punkt_tab is already up-to-date!\n",
      "[nltk_data] Downloading package stopwords to\n",
      "[nltk_data]     /Users/hamzanadeemsiddiqui/nltk_data...\n",
      "[nltk_data]   Package stopwords is already up-to-date!\n",
      "[nltk_data] Downloading package punkt to\n",
      "[nltk_data]     /Users/hamzanadeemsiddiqui/nltk_data...\n",
      "[nltk_data]   Package punkt is already up-to-date!\n"
     ]
    }
   ],
   "source": [
    "import nltk\n",
    "from nltk.tokenize import word_tokenize\n",
    "nltk.download('punkt_tab')\n",
    "from nltk.corpus import stopwords  # Add this import\n",
    "nltk.download('stopwords')\n",
    "nltk.download('punkt')\n",
    "\n",
    "stop_words = set(stopwords.words('english'))  # Now this will work\n",
    "\n",
    "def split_text(text):\n",
    "    return text.split(' ')\n"
   ]
  },
  {
   "cell_type": "code",
   "execution_count": 50,
   "id": "84e5c65bfa635fbc",
   "metadata": {
    "ExecuteTime": {
     "end_time": "2025-02-04T03:06:31.456641Z",
     "start_time": "2025-02-04T03:06:31.078424Z"
    },
    "collapsed": false
   },
   "outputs": [
    {
     "name": "stderr",
     "output_type": "stream",
     "text": [
      "[nltk_data] Downloading package stopwords to\n",
      "[nltk_data]     /Users/hamzanadeemsiddiqui/nltk_data...\n",
      "[nltk_data]   Package stopwords is already up-to-date!\n",
      "[nltk_data] Downloading package punkt to\n",
      "[nltk_data]     /Users/hamzanadeemsiddiqui/nltk_data...\n",
      "[nltk_data]   Package punkt is already up-to-date!\n"
     ]
    }
   ],
   "source": [
    "nltk.download('stopwords')\n",
    "nltk.download('punkt')\n",
    "stop_words = set(stopwords.words('english'))\n",
    "\n",
    "def split_text(text):\n",
    "    return text.split(' ')\n",
    "\n",
    "def preprocess_text(text):\n",
    "    text = re.sub(r'\\d+', '', text)  # Remove numbers\n",
    "    text = re.sub(r'\\W', ' ', text)  # Remove special characters\n",
    "    text = text.lower()  # Convert to lowercase\n",
    "    words = word_tokenize(text)  # Tokenize\n",
    "    words = [word for word in words if word not in stop_words]  # Remove stopwords and stem\n",
    "    return ' '.join(words)\n",
    "\n",
    "df_druglib['cleaned_reviews'] = df_druglib['commentsReview'].apply(preprocess_text)\n",
    "df_druglib['cleaned_benefits'] = df_druglib['benefitsReview'].apply(preprocess_text)\n",
    "df_druglib['cleaned_sideEffects'] = df_druglib['sideEffectsReview'].apply(preprocess_text)"
   ]
  },
  {
   "cell_type": "code",
   "execution_count": 51,
   "id": "934a4b6ae7a652b3",
   "metadata": {
    "collapsed": false
   },
   "outputs": [
    {
     "name": "stderr",
     "output_type": "stream",
     "text": [
      "[nltk_data] Downloading package vader_lexicon to\n",
      "[nltk_data]     /Users/hamzanadeemsiddiqui/nltk_data...\n",
      "[nltk_data]   Package vader_lexicon is already up-to-date!\n"
     ]
    }
   ],
   "source": [
    "from nltk.sentiment.vader import SentimentIntensityAnalyzer\n",
    "nltk.download('vader_lexicon')\n",
    "\n",
    "def sentiment_analyzer(df,text_column):\n",
    "    # Initialize VADER sentiment analyzer\n",
    "    sid = SentimentIntensityAnalyzer()\n",
    "\n",
    "    # Define a function to apply sentiment analysis while handling NaN values\n",
    "    def apply_sentiment_analysis(x):\n",
    "        if isinstance(x, str):  # Check if x is a string\n",
    "            return sid.polarity_scores(x)['compound']\n",
    "        else:\n",
    "            return float('nan')  # Return NaN for non-string values\n",
    "\n",
    "    # Define threshold values for sentiment classification\n",
    "    positive_threshold = 0.4\n",
    "    negative_threshold = -0.4\n",
    "\n",
    "    # Apply VADER sentiment analyzer\n",
    "    df['sentiment_score'] = df[text_column].apply(apply_sentiment_analysis)\n",
    "\n",
    "    # Apply sentiment labeling using lambda functions\n",
    "    df['sentiment_label'] = df['sentiment_score'].apply(lambda x: 'Positive' if x > positive_threshold else ('Negative' if x < negative_threshold else 'Neutral'))"
   ]
  },
  {
   "cell_type": "code",
   "execution_count": 52,
   "id": "ac10aba5",
   "metadata": {},
   "outputs": [],
   "source": [
    "sentiment_analyzer(df_druglib,'cleaned_reviews')"
   ]
  },
  {
   "cell_type": "code",
   "execution_count": 53,
   "id": "be78bdd8",
   "metadata": {},
   "outputs": [],
   "source": [
    "import plotly.express as px"
   ]
  },
  {
   "cell_type": "code",
   "execution_count": 54,
   "id": "455a8df6",
   "metadata": {},
   "outputs": [
    {
     "data": {
      "application/vnd.plotly.v1+json": {
       "config": {
        "plotlyServerURL": "https://plot.ly"
       },
       "data": [
        {
         "customdata": [
          [
           "Negative"
          ],
          [
           "Neutral"
          ],
          [
           "Positive"
          ]
         ],
         "domain": {
          "x": [
           0,
           1
          ],
          "y": [
           0,
           1
          ]
         },
         "hoverinfo": "label+value",
         "hovertemplate": "Sentiment Label=%{customdata[0]}<br>Total Reviews=%{value}<extra></extra>",
         "labels": [
          "Negative",
          "Neutral",
          "Positive"
         ],
         "legendgroup": "",
         "marker": {
          "colors": [
           "#EF553B",
           "#636EFA",
           "#00CC96"
          ]
         },
         "name": "",
         "showlegend": true,
         "textinfo": "label+percent",
         "type": "pie",
         "values": {
          "bdata": "rgNICLcD",
          "dtype": "i2"
         }
        }
       ],
       "layout": {
        "height": 600,
        "legend": {
         "tracegroupgap": 0
        },
        "margin": {
         "t": 60
        },
        "template": {
         "data": {
          "bar": [
           {
            "error_x": {
             "color": "#2a3f5f"
            },
            "error_y": {
             "color": "#2a3f5f"
            },
            "marker": {
             "line": {
              "color": "#E5ECF6",
              "width": 0.5
             },
             "pattern": {
              "fillmode": "overlay",
              "size": 10,
              "solidity": 0.2
             }
            },
            "type": "bar"
           }
          ],
          "barpolar": [
           {
            "marker": {
             "line": {
              "color": "#E5ECF6",
              "width": 0.5
             },
             "pattern": {
              "fillmode": "overlay",
              "size": 10,
              "solidity": 0.2
             }
            },
            "type": "barpolar"
           }
          ],
          "carpet": [
           {
            "aaxis": {
             "endlinecolor": "#2a3f5f",
             "gridcolor": "white",
             "linecolor": "white",
             "minorgridcolor": "white",
             "startlinecolor": "#2a3f5f"
            },
            "baxis": {
             "endlinecolor": "#2a3f5f",
             "gridcolor": "white",
             "linecolor": "white",
             "minorgridcolor": "white",
             "startlinecolor": "#2a3f5f"
            },
            "type": "carpet"
           }
          ],
          "choropleth": [
           {
            "colorbar": {
             "outlinewidth": 0,
             "ticks": ""
            },
            "type": "choropleth"
           }
          ],
          "contour": [
           {
            "colorbar": {
             "outlinewidth": 0,
             "ticks": ""
            },
            "colorscale": [
             [
              0,
              "#0d0887"
             ],
             [
              0.1111111111111111,
              "#46039f"
             ],
             [
              0.2222222222222222,
              "#7201a8"
             ],
             [
              0.3333333333333333,
              "#9c179e"
             ],
             [
              0.4444444444444444,
              "#bd3786"
             ],
             [
              0.5555555555555556,
              "#d8576b"
             ],
             [
              0.6666666666666666,
              "#ed7953"
             ],
             [
              0.7777777777777778,
              "#fb9f3a"
             ],
             [
              0.8888888888888888,
              "#fdca26"
             ],
             [
              1,
              "#f0f921"
             ]
            ],
            "type": "contour"
           }
          ],
          "contourcarpet": [
           {
            "colorbar": {
             "outlinewidth": 0,
             "ticks": ""
            },
            "type": "contourcarpet"
           }
          ],
          "heatmap": [
           {
            "colorbar": {
             "outlinewidth": 0,
             "ticks": ""
            },
            "colorscale": [
             [
              0,
              "#0d0887"
             ],
             [
              0.1111111111111111,
              "#46039f"
             ],
             [
              0.2222222222222222,
              "#7201a8"
             ],
             [
              0.3333333333333333,
              "#9c179e"
             ],
             [
              0.4444444444444444,
              "#bd3786"
             ],
             [
              0.5555555555555556,
              "#d8576b"
             ],
             [
              0.6666666666666666,
              "#ed7953"
             ],
             [
              0.7777777777777778,
              "#fb9f3a"
             ],
             [
              0.8888888888888888,
              "#fdca26"
             ],
             [
              1,
              "#f0f921"
             ]
            ],
            "type": "heatmap"
           }
          ],
          "histogram": [
           {
            "marker": {
             "pattern": {
              "fillmode": "overlay",
              "size": 10,
              "solidity": 0.2
             }
            },
            "type": "histogram"
           }
          ],
          "histogram2d": [
           {
            "colorbar": {
             "outlinewidth": 0,
             "ticks": ""
            },
            "colorscale": [
             [
              0,
              "#0d0887"
             ],
             [
              0.1111111111111111,
              "#46039f"
             ],
             [
              0.2222222222222222,
              "#7201a8"
             ],
             [
              0.3333333333333333,
              "#9c179e"
             ],
             [
              0.4444444444444444,
              "#bd3786"
             ],
             [
              0.5555555555555556,
              "#d8576b"
             ],
             [
              0.6666666666666666,
              "#ed7953"
             ],
             [
              0.7777777777777778,
              "#fb9f3a"
             ],
             [
              0.8888888888888888,
              "#fdca26"
             ],
             [
              1,
              "#f0f921"
             ]
            ],
            "type": "histogram2d"
           }
          ],
          "histogram2dcontour": [
           {
            "colorbar": {
             "outlinewidth": 0,
             "ticks": ""
            },
            "colorscale": [
             [
              0,
              "#0d0887"
             ],
             [
              0.1111111111111111,
              "#46039f"
             ],
             [
              0.2222222222222222,
              "#7201a8"
             ],
             [
              0.3333333333333333,
              "#9c179e"
             ],
             [
              0.4444444444444444,
              "#bd3786"
             ],
             [
              0.5555555555555556,
              "#d8576b"
             ],
             [
              0.6666666666666666,
              "#ed7953"
             ],
             [
              0.7777777777777778,
              "#fb9f3a"
             ],
             [
              0.8888888888888888,
              "#fdca26"
             ],
             [
              1,
              "#f0f921"
             ]
            ],
            "type": "histogram2dcontour"
           }
          ],
          "mesh3d": [
           {
            "colorbar": {
             "outlinewidth": 0,
             "ticks": ""
            },
            "type": "mesh3d"
           }
          ],
          "parcoords": [
           {
            "line": {
             "colorbar": {
              "outlinewidth": 0,
              "ticks": ""
             }
            },
            "type": "parcoords"
           }
          ],
          "pie": [
           {
            "automargin": true,
            "type": "pie"
           }
          ],
          "scatter": [
           {
            "fillpattern": {
             "fillmode": "overlay",
             "size": 10,
             "solidity": 0.2
            },
            "type": "scatter"
           }
          ],
          "scatter3d": [
           {
            "line": {
             "colorbar": {
              "outlinewidth": 0,
              "ticks": ""
             }
            },
            "marker": {
             "colorbar": {
              "outlinewidth": 0,
              "ticks": ""
             }
            },
            "type": "scatter3d"
           }
          ],
          "scattercarpet": [
           {
            "marker": {
             "colorbar": {
              "outlinewidth": 0,
              "ticks": ""
             }
            },
            "type": "scattercarpet"
           }
          ],
          "scattergeo": [
           {
            "marker": {
             "colorbar": {
              "outlinewidth": 0,
              "ticks": ""
             }
            },
            "type": "scattergeo"
           }
          ],
          "scattergl": [
           {
            "marker": {
             "colorbar": {
              "outlinewidth": 0,
              "ticks": ""
             }
            },
            "type": "scattergl"
           }
          ],
          "scattermap": [
           {
            "marker": {
             "colorbar": {
              "outlinewidth": 0,
              "ticks": ""
             }
            },
            "type": "scattermap"
           }
          ],
          "scattermapbox": [
           {
            "marker": {
             "colorbar": {
              "outlinewidth": 0,
              "ticks": ""
             }
            },
            "type": "scattermapbox"
           }
          ],
          "scatterpolar": [
           {
            "marker": {
             "colorbar": {
              "outlinewidth": 0,
              "ticks": ""
             }
            },
            "type": "scatterpolar"
           }
          ],
          "scatterpolargl": [
           {
            "marker": {
             "colorbar": {
              "outlinewidth": 0,
              "ticks": ""
             }
            },
            "type": "scatterpolargl"
           }
          ],
          "scatterternary": [
           {
            "marker": {
             "colorbar": {
              "outlinewidth": 0,
              "ticks": ""
             }
            },
            "type": "scatterternary"
           }
          ],
          "surface": [
           {
            "colorbar": {
             "outlinewidth": 0,
             "ticks": ""
            },
            "colorscale": [
             [
              0,
              "#0d0887"
             ],
             [
              0.1111111111111111,
              "#46039f"
             ],
             [
              0.2222222222222222,
              "#7201a8"
             ],
             [
              0.3333333333333333,
              "#9c179e"
             ],
             [
              0.4444444444444444,
              "#bd3786"
             ],
             [
              0.5555555555555556,
              "#d8576b"
             ],
             [
              0.6666666666666666,
              "#ed7953"
             ],
             [
              0.7777777777777778,
              "#fb9f3a"
             ],
             [
              0.8888888888888888,
              "#fdca26"
             ],
             [
              1,
              "#f0f921"
             ]
            ],
            "type": "surface"
           }
          ],
          "table": [
           {
            "cells": {
             "fill": {
              "color": "#EBF0F8"
             },
             "line": {
              "color": "white"
             }
            },
            "header": {
             "fill": {
              "color": "#C8D4E3"
             },
             "line": {
              "color": "white"
             }
            },
            "type": "table"
           }
          ]
         },
         "layout": {
          "annotationdefaults": {
           "arrowcolor": "#2a3f5f",
           "arrowhead": 0,
           "arrowwidth": 1
          },
          "autotypenumbers": "strict",
          "coloraxis": {
           "colorbar": {
            "outlinewidth": 0,
            "ticks": ""
           }
          },
          "colorscale": {
           "diverging": [
            [
             0,
             "#8e0152"
            ],
            [
             0.1,
             "#c51b7d"
            ],
            [
             0.2,
             "#de77ae"
            ],
            [
             0.3,
             "#f1b6da"
            ],
            [
             0.4,
             "#fde0ef"
            ],
            [
             0.5,
             "#f7f7f7"
            ],
            [
             0.6,
             "#e6f5d0"
            ],
            [
             0.7,
             "#b8e186"
            ],
            [
             0.8,
             "#7fbc41"
            ],
            [
             0.9,
             "#4d9221"
            ],
            [
             1,
             "#276419"
            ]
           ],
           "sequential": [
            [
             0,
             "#0d0887"
            ],
            [
             0.1111111111111111,
             "#46039f"
            ],
            [
             0.2222222222222222,
             "#7201a8"
            ],
            [
             0.3333333333333333,
             "#9c179e"
            ],
            [
             0.4444444444444444,
             "#bd3786"
            ],
            [
             0.5555555555555556,
             "#d8576b"
            ],
            [
             0.6666666666666666,
             "#ed7953"
            ],
            [
             0.7777777777777778,
             "#fb9f3a"
            ],
            [
             0.8888888888888888,
             "#fdca26"
            ],
            [
             1,
             "#f0f921"
            ]
           ],
           "sequentialminus": [
            [
             0,
             "#0d0887"
            ],
            [
             0.1111111111111111,
             "#46039f"
            ],
            [
             0.2222222222222222,
             "#7201a8"
            ],
            [
             0.3333333333333333,
             "#9c179e"
            ],
            [
             0.4444444444444444,
             "#bd3786"
            ],
            [
             0.5555555555555556,
             "#d8576b"
            ],
            [
             0.6666666666666666,
             "#ed7953"
            ],
            [
             0.7777777777777778,
             "#fb9f3a"
            ],
            [
             0.8888888888888888,
             "#fdca26"
            ],
            [
             1,
             "#f0f921"
            ]
           ]
          },
          "colorway": [
           "#636efa",
           "#EF553B",
           "#00cc96",
           "#ab63fa",
           "#FFA15A",
           "#19d3f3",
           "#FF6692",
           "#B6E880",
           "#FF97FF",
           "#FECB52"
          ],
          "font": {
           "color": "#2a3f5f"
          },
          "geo": {
           "bgcolor": "white",
           "lakecolor": "white",
           "landcolor": "#E5ECF6",
           "showlakes": true,
           "showland": true,
           "subunitcolor": "white"
          },
          "hoverlabel": {
           "align": "left"
          },
          "hovermode": "closest",
          "mapbox": {
           "style": "light"
          },
          "paper_bgcolor": "white",
          "plot_bgcolor": "#E5ECF6",
          "polar": {
           "angularaxis": {
            "gridcolor": "white",
            "linecolor": "white",
            "ticks": ""
           },
           "bgcolor": "#E5ECF6",
           "radialaxis": {
            "gridcolor": "white",
            "linecolor": "white",
            "ticks": ""
           }
          },
          "scene": {
           "xaxis": {
            "backgroundcolor": "#E5ECF6",
            "gridcolor": "white",
            "gridwidth": 2,
            "linecolor": "white",
            "showbackground": true,
            "ticks": "",
            "zerolinecolor": "white"
           },
           "yaxis": {
            "backgroundcolor": "#E5ECF6",
            "gridcolor": "white",
            "gridwidth": 2,
            "linecolor": "white",
            "showbackground": true,
            "ticks": "",
            "zerolinecolor": "white"
           },
           "zaxis": {
            "backgroundcolor": "#E5ECF6",
            "gridcolor": "white",
            "gridwidth": 2,
            "linecolor": "white",
            "showbackground": true,
            "ticks": "",
            "zerolinecolor": "white"
           }
          },
          "shapedefaults": {
           "line": {
            "color": "#2a3f5f"
           }
          },
          "ternary": {
           "aaxis": {
            "gridcolor": "white",
            "linecolor": "white",
            "ticks": ""
           },
           "baxis": {
            "gridcolor": "white",
            "linecolor": "white",
            "ticks": ""
           },
           "bgcolor": "#E5ECF6",
           "caxis": {
            "gridcolor": "white",
            "linecolor": "white",
            "ticks": ""
           }
          },
          "title": {
           "x": 0.05
          },
          "xaxis": {
           "automargin": true,
           "gridcolor": "white",
           "linecolor": "white",
           "ticks": "",
           "title": {
            "standoff": 15
           },
           "zerolinecolor": "white",
           "zerolinewidth": 2
          },
          "yaxis": {
           "automargin": true,
           "gridcolor": "white",
           "linecolor": "white",
           "ticks": "",
           "title": {
            "standoff": 15
           },
           "zerolinecolor": "white",
           "zerolinewidth": 2
          }
         }
        },
        "title": {
         "font": {
          "size": 20
         },
         "text": "Comments Review Section Sentiment Analysis",
         "x": 0.5
        },
        "width": 600
       }
      }
     },
     "metadata": {},
     "output_type": "display_data"
    }
   ],
   "source": [
    "import plotly.express as px\n",
    "import pandas as pd\n",
    "\n",
    "# Ensure df_druglib exists before running the code\n",
    "if 'sentiment_label' not in df_druglib.columns or 'sentiment_score' not in df_druglib.columns:\n",
    "    raise ValueError(\"Error: df_druglib must have 'sentiment_label' and 'sentiment_score' columns!\")\n",
    "\n",
    "# Aggregate sentiment data\n",
    "df_sentiment = df_druglib.groupby('sentiment_label').agg(\n",
    "    count=('sentiment_score', 'count'),\n",
    "    avg_value=('sentiment_score', 'mean')\n",
    ")\n",
    "\n",
    "# Rename columns for better readability\n",
    "df_sentiment.rename(columns={'count': 'Total Reviews', 'avg_value': 'Avg. Sentiment Score'}, inplace=True)\n",
    "df_sentiment.index.names = ['Sentiment Label']\n",
    "\n",
    "# Debugging step: Check if df_sentiment is not empty\n",
    "if df_sentiment.empty:\n",
    "    raise ValueError(\"Error: df_sentiment is empty. Check df_druglib for missing data!\")\n",
    "\n",
    "# Define colors for each sentiment label\n",
    "colors = {\n",
    "    'Positive': '#00CC96',\n",
    "    'Neutral': '#636EFA',\n",
    "    'Negative': '#EF553B'\n",
    "}\n",
    "\n",
    "# Create a pie chart using Plotly Express\n",
    "fig = px.pie(\n",
    "    df_sentiment.reset_index(),  # Reset index to ensure 'Sentiment Label' is a column\n",
    "    names='Sentiment Label',\n",
    "    values='Total Reviews',\n",
    "    color='Sentiment Label',\n",
    "    width=600,\n",
    "    height=600,\n",
    "    color_discrete_map=colors\n",
    ")\n",
    "\n",
    "# Improve pie chart appearance\n",
    "fig.update_traces(\n",
    "    hoverinfo='label+value',\n",
    "    textinfo='label+percent'\n",
    ")\n",
    "\n",
    "# Set layout properties\n",
    "fig.update_layout(\n",
    "    title_text='Comments Review Section Sentiment Analysis',\n",
    "    title_x=0.5,\n",
    "    title_font_size=20\n",
    ")\n",
    "\n",
    "# Show the figure\n",
    "fig.show()\n"
   ]
  },
  {
   "cell_type": "code",
   "execution_count": 55,
   "id": "f633a059",
   "metadata": {},
   "outputs": [
    {
     "name": "stderr",
     "output_type": "stream",
     "text": [
      "/var/folders/7t/gd3v4bcx0p3__qld0yj8_2rh0000gn/T/ipykernel_41634/2205516445.py:5: FutureWarning:\n",
      "\n",
      "The provided callable <function mean at 0x10ada9300> is currently using SeriesGroupBy.mean. In a future version of pandas, the provided callable will be used directly. To keep current behavior pass the string \"mean\" instead.\n",
      "\n",
      "/var/folders/7t/gd3v4bcx0p3__qld0yj8_2rh0000gn/T/ipykernel_41634/2205516445.py:5: FutureWarning:\n",
      "\n",
      "The provided callable <function mean at 0x10ada9300> is currently using SeriesGroupBy.mean. In a future version of pandas, the provided callable will be used directly. To keep current behavior pass the string \"mean\" instead.\n",
      "\n",
      "/var/folders/7t/gd3v4bcx0p3__qld0yj8_2rh0000gn/T/ipykernel_41634/2205516445.py:5: FutureWarning:\n",
      "\n",
      "The provided callable <function sum at 0x10ad7fec0> is currently using SeriesGroupBy.sum. In a future version of pandas, the provided callable will be used directly. To keep current behavior pass the string \"sum\" instead.\n",
      "\n"
     ]
    },
    {
     "data": {
      "text/html": [
       "<div>\n",
       "<style scoped>\n",
       "    .dataframe tbody tr th:only-of-type {\n",
       "        vertical-align: middle;\n",
       "    }\n",
       "\n",
       "    .dataframe tbody tr th {\n",
       "        vertical-align: top;\n",
       "    }\n",
       "\n",
       "    .dataframe thead th {\n",
       "        text-align: right;\n",
       "    }\n",
       "</style>\n",
       "<table border=\"1\" class=\"dataframe\">\n",
       "  <thead>\n",
       "    <tr style=\"text-align: right;\">\n",
       "      <th></th>\n",
       "      <th>effectiveness</th>\n",
       "      <th>sideEffects</th>\n",
       "      <th>reviews</th>\n",
       "      <th>popularity</th>\n",
       "    </tr>\n",
       "    <tr>\n",
       "      <th>urlDrugName</th>\n",
       "      <th></th>\n",
       "      <th></th>\n",
       "      <th></th>\n",
       "      <th></th>\n",
       "    </tr>\n",
       "  </thead>\n",
       "  <tbody>\n",
       "    <tr>\n",
       "      <th>lexapro</th>\n",
       "      <td>3.661017</td>\n",
       "      <td>2.406780</td>\n",
       "      <td>59</td>\n",
       "      <td>403</td>\n",
       "    </tr>\n",
       "    <tr>\n",
       "      <th>prozac</th>\n",
       "      <td>4.157895</td>\n",
       "      <td>2.315789</td>\n",
       "      <td>38</td>\n",
       "      <td>288</td>\n",
       "    </tr>\n",
       "    <tr>\n",
       "      <th>wellbutrin</th>\n",
       "      <td>3.702703</td>\n",
       "      <td>2.243243</td>\n",
       "      <td>37</td>\n",
       "      <td>269</td>\n",
       "    </tr>\n",
       "    <tr>\n",
       "      <th>zoloft</th>\n",
       "      <td>3.971429</td>\n",
       "      <td>2.057143</td>\n",
       "      <td>35</td>\n",
       "      <td>257</td>\n",
       "    </tr>\n",
       "    <tr>\n",
       "      <th>effexor</th>\n",
       "      <td>3.631579</td>\n",
       "      <td>2.842105</td>\n",
       "      <td>38</td>\n",
       "      <td>248</td>\n",
       "    </tr>\n",
       "  </tbody>\n",
       "</table>\n",
       "</div>"
      ],
      "text/plain": [
       "             effectiveness  sideEffects  reviews  popularity\n",
       "urlDrugName                                                 \n",
       "lexapro           3.661017     2.406780       59         403\n",
       "prozac            4.157895     2.315789       38         288\n",
       "wellbutrin        3.702703     2.243243       37         269\n",
       "zoloft            3.971429     2.057143       35         257\n",
       "effexor           3.631579     2.842105       38         248"
      ]
     },
     "execution_count": 55,
     "metadata": {},
     "output_type": "execute_result"
    }
   ],
   "source": [
    "keyword = 'depression'\n",
    "\n",
    "filtered_df = df_druglib[df_druglib['condition'].str.contains(keyword)]\n",
    "\n",
    "top5drugs = filtered_df.groupby('urlDrugName').agg(\n",
    "    effectiveness=('effectiveness_rank', np.mean),\n",
    "    sideEffects=('sideEffects_rank', np.mean),\n",
    "    reviews=('commentsReview', 'count'),\n",
    "    popularity=('rating', np.sum)\n",
    ").sort_values(by='popularity', ascending=False).head(5)\n",
    "\n",
    "top5drugs"
   ]
  },
  {
   "cell_type": "code",
   "execution_count": 56,
   "id": "ec53179d",
   "metadata": {},
   "outputs": [
    {
     "data": {
      "text/html": [
       "<div>\n",
       "<style scoped>\n",
       "    .dataframe tbody tr th:only-of-type {\n",
       "        vertical-align: middle;\n",
       "    }\n",
       "\n",
       "    .dataframe tbody tr th {\n",
       "        vertical-align: top;\n",
       "    }\n",
       "\n",
       "    .dataframe thead th {\n",
       "        text-align: right;\n",
       "    }\n",
       "</style>\n",
       "<table border=\"1\" class=\"dataframe\">\n",
       "  <thead>\n",
       "    <tr style=\"text-align: right;\">\n",
       "      <th></th>\n",
       "      <th>Unnamed: 0</th>\n",
       "      <th>urlDrugName</th>\n",
       "      <th>rating</th>\n",
       "      <th>effectiveness</th>\n",
       "      <th>sideEffects</th>\n",
       "      <th>condition</th>\n",
       "      <th>benefitsReview</th>\n",
       "      <th>sideEffectsReview</th>\n",
       "      <th>commentsReview</th>\n",
       "      <th>effectiveness_rank</th>\n",
       "      <th>sideEffects_rank</th>\n",
       "      <th>cleaned_reviews</th>\n",
       "      <th>cleaned_benefits</th>\n",
       "      <th>cleaned_sideEffects</th>\n",
       "      <th>sentiment_score</th>\n",
       "      <th>sentiment_label</th>\n",
       "    </tr>\n",
       "  </thead>\n",
       "  <tbody>\n",
       "    <tr>\n",
       "      <th>0</th>\n",
       "      <td>2202</td>\n",
       "      <td>enalapril</td>\n",
       "      <td>4</td>\n",
       "      <td>Highly Effective</td>\n",
       "      <td>Mild Side Effects</td>\n",
       "      <td>management of congestive heart failure</td>\n",
       "      <td>slowed the progression of left ventricular dys...</td>\n",
       "      <td>cough, hypotension , proteinuria, impotence , ...</td>\n",
       "      <td>monitor blood pressure , weight and asses for ...</td>\n",
       "      <td>5</td>\n",
       "      <td>2</td>\n",
       "      <td>monitor blood pressure weight asses resolution...</td>\n",
       "      <td>slowed progression left ventricular dysfunctio...</td>\n",
       "      <td>cough hypotension proteinuria impotence renal ...</td>\n",
       "      <td>-0.2960</td>\n",
       "      <td>Neutral</td>\n",
       "    </tr>\n",
       "    <tr>\n",
       "      <th>1</th>\n",
       "      <td>3117</td>\n",
       "      <td>ortho-tri-cyclen</td>\n",
       "      <td>1</td>\n",
       "      <td>Highly Effective</td>\n",
       "      <td>Severe Side Effects</td>\n",
       "      <td>birth prevention</td>\n",
       "      <td>Although this type of birth control has more c...</td>\n",
       "      <td>Heavy Cycle, Cramps, Hot Flashes, Fatigue, Lon...</td>\n",
       "      <td>I Hate This Birth Control, I Would Not Suggest...</td>\n",
       "      <td>5</td>\n",
       "      <td>4</td>\n",
       "      <td>hate birth control would suggest anyone</td>\n",
       "      <td>although type birth control cons pros help cra...</td>\n",
       "      <td>heavy cycle cramps hot flashes fatigue long la...</td>\n",
       "      <td>-0.5719</td>\n",
       "      <td>Negative</td>\n",
       "    </tr>\n",
       "    <tr>\n",
       "      <th>2</th>\n",
       "      <td>1146</td>\n",
       "      <td>ponstel</td>\n",
       "      <td>10</td>\n",
       "      <td>Highly Effective</td>\n",
       "      <td>No Side Effects</td>\n",
       "      <td>menstrual cramps</td>\n",
       "      <td>I was used to having cramps so badly that they...</td>\n",
       "      <td>Heavier bleeding and clotting than normal.</td>\n",
       "      <td>I took 2 pills at the onset of my menstrual cr...</td>\n",
       "      <td>5</td>\n",
       "      <td>1</td>\n",
       "      <td>took pills onset menstrual cramps every hours ...</td>\n",
       "      <td>used cramps badly would leave balled bed least...</td>\n",
       "      <td>heavier bleeding clotting normal</td>\n",
       "      <td>-0.5106</td>\n",
       "      <td>Negative</td>\n",
       "    </tr>\n",
       "    <tr>\n",
       "      <th>3</th>\n",
       "      <td>3947</td>\n",
       "      <td>prilosec</td>\n",
       "      <td>3</td>\n",
       "      <td>Marginally Effective</td>\n",
       "      <td>Mild Side Effects</td>\n",
       "      <td>acid reflux</td>\n",
       "      <td>The acid reflux went away for a few months aft...</td>\n",
       "      <td>Constipation, dry mouth and some mild dizzines...</td>\n",
       "      <td>I was given Prilosec prescription at a dose of...</td>\n",
       "      <td>2</td>\n",
       "      <td>2</td>\n",
       "      <td>given prilosec prescription dose mg per day me...</td>\n",
       "      <td>acid reflux went away months days drug heartbu...</td>\n",
       "      <td>constipation dry mouth mild dizziness would go...</td>\n",
       "      <td>0.0000</td>\n",
       "      <td>Neutral</td>\n",
       "    </tr>\n",
       "    <tr>\n",
       "      <th>4</th>\n",
       "      <td>1951</td>\n",
       "      <td>lyrica</td>\n",
       "      <td>2</td>\n",
       "      <td>Marginally Effective</td>\n",
       "      <td>Severe Side Effects</td>\n",
       "      <td>fibromyalgia</td>\n",
       "      <td>I think that the Lyrica was starting to help w...</td>\n",
       "      <td>I felt extremely drugged and dopey.  Could not...</td>\n",
       "      <td>See above</td>\n",
       "      <td>2</td>\n",
       "      <td>4</td>\n",
       "      <td>see</td>\n",
       "      <td>think lyrica starting help pain side effects s...</td>\n",
       "      <td>felt extremely drugged dopey could drive med a...</td>\n",
       "      <td>0.0000</td>\n",
       "      <td>Neutral</td>\n",
       "    </tr>\n",
       "  </tbody>\n",
       "</table>\n",
       "</div>"
      ],
      "text/plain": [
       "   Unnamed: 0       urlDrugName  rating         effectiveness  \\\n",
       "0        2202         enalapril       4      Highly Effective   \n",
       "1        3117  ortho-tri-cyclen       1      Highly Effective   \n",
       "2        1146           ponstel      10      Highly Effective   \n",
       "3        3947          prilosec       3  Marginally Effective   \n",
       "4        1951            lyrica       2  Marginally Effective   \n",
       "\n",
       "           sideEffects                               condition  \\\n",
       "0    Mild Side Effects  management of congestive heart failure   \n",
       "1  Severe Side Effects                        birth prevention   \n",
       "2      No Side Effects                        menstrual cramps   \n",
       "3    Mild Side Effects                             acid reflux   \n",
       "4  Severe Side Effects                            fibromyalgia   \n",
       "\n",
       "                                      benefitsReview  \\\n",
       "0  slowed the progression of left ventricular dys...   \n",
       "1  Although this type of birth control has more c...   \n",
       "2  I was used to having cramps so badly that they...   \n",
       "3  The acid reflux went away for a few months aft...   \n",
       "4  I think that the Lyrica was starting to help w...   \n",
       "\n",
       "                                   sideEffectsReview  \\\n",
       "0  cough, hypotension , proteinuria, impotence , ...   \n",
       "1  Heavy Cycle, Cramps, Hot Flashes, Fatigue, Lon...   \n",
       "2         Heavier bleeding and clotting than normal.   \n",
       "3  Constipation, dry mouth and some mild dizzines...   \n",
       "4  I felt extremely drugged and dopey.  Could not...   \n",
       "\n",
       "                                      commentsReview  effectiveness_rank  \\\n",
       "0  monitor blood pressure , weight and asses for ...                   5   \n",
       "1  I Hate This Birth Control, I Would Not Suggest...                   5   \n",
       "2  I took 2 pills at the onset of my menstrual cr...                   5   \n",
       "3  I was given Prilosec prescription at a dose of...                   2   \n",
       "4                                          See above                   2   \n",
       "\n",
       "   sideEffects_rank                                    cleaned_reviews  \\\n",
       "0                 2  monitor blood pressure weight asses resolution...   \n",
       "1                 4            hate birth control would suggest anyone   \n",
       "2                 1  took pills onset menstrual cramps every hours ...   \n",
       "3                 2  given prilosec prescription dose mg per day me...   \n",
       "4                 4                                                see   \n",
       "\n",
       "                                    cleaned_benefits  \\\n",
       "0  slowed progression left ventricular dysfunctio...   \n",
       "1  although type birth control cons pros help cra...   \n",
       "2  used cramps badly would leave balled bed least...   \n",
       "3  acid reflux went away months days drug heartbu...   \n",
       "4  think lyrica starting help pain side effects s...   \n",
       "\n",
       "                                 cleaned_sideEffects  sentiment_score  \\\n",
       "0  cough hypotension proteinuria impotence renal ...          -0.2960   \n",
       "1  heavy cycle cramps hot flashes fatigue long la...          -0.5719   \n",
       "2                   heavier bleeding clotting normal          -0.5106   \n",
       "3  constipation dry mouth mild dizziness would go...           0.0000   \n",
       "4  felt extremely drugged dopey could drive med a...           0.0000   \n",
       "\n",
       "  sentiment_label  \n",
       "0         Neutral  \n",
       "1        Negative  \n",
       "2        Negative  \n",
       "3         Neutral  \n",
       "4         Neutral  "
      ]
     },
     "execution_count": 56,
     "metadata": {},
     "output_type": "execute_result"
    }
   ],
   "source": [
    "df_druglib.head()"
   ]
  },
  {
   "cell_type": "code",
   "execution_count": 57,
   "id": "cd791fa5",
   "metadata": {},
   "outputs": [
    {
     "ename": "NameError",
     "evalue": "name 'df_drug' is not defined",
     "output_type": "error",
     "traceback": [
      "\u001b[0;31m---------------------------------------------------------------------------\u001b[0m",
      "\u001b[0;31mNameError\u001b[0m                                 Traceback (most recent call last)",
      "Cell \u001b[0;32mIn[57], line 1\u001b[0m\n\u001b[0;32m----> 1\u001b[0m df_sentiment \u001b[39m=\u001b[39m df_drug\u001b[39m.\u001b[39mgroupby(\u001b[39m'\u001b[39m\u001b[39msentiment_label\u001b[39m\u001b[39m'\u001b[39m)\u001b[39m.\u001b[39magg(\n\u001b[1;32m      2\u001b[0m     count\u001b[39m=\u001b[39m(\u001b[39m'\u001b[39m\u001b[39msentiment_score\u001b[39m\u001b[39m'\u001b[39m, \u001b[39m'\u001b[39m\u001b[39mcount\u001b[39m\u001b[39m'\u001b[39m),\n\u001b[1;32m      3\u001b[0m     avg_value\u001b[39m=\u001b[39m(\u001b[39m'\u001b[39m\u001b[39msentiment_score\u001b[39m\u001b[39m'\u001b[39m, \u001b[39m'\u001b[39m\u001b[39mmean\u001b[39m\u001b[39m'\u001b[39m)\n\u001b[1;32m      4\u001b[0m )\n\u001b[1;32m      6\u001b[0m df_sentiment\u001b[39m.\u001b[39mrename(columns\u001b[39m=\u001b[39m{\u001b[39m'\u001b[39m\u001b[39mcount\u001b[39m\u001b[39m'\u001b[39m: \u001b[39m'\u001b[39m\u001b[39mTotal Reviews\u001b[39m\u001b[39m'\u001b[39m, \u001b[39m'\u001b[39m\u001b[39mavg_value\u001b[39m\u001b[39m'\u001b[39m: \u001b[39m'\u001b[39m\u001b[39mAvg. Sentiment Score\u001b[39m\u001b[39m'\u001b[39m}, inplace\u001b[39m=\u001b[39m\u001b[39mTrue\u001b[39;00m)\n\u001b[1;32m      7\u001b[0m df_sentiment\u001b[39m.\u001b[39mindex\u001b[39m.\u001b[39mnames \u001b[39m=\u001b[39m [\u001b[39m'\u001b[39m\u001b[39mSentiment Label\u001b[39m\u001b[39m'\u001b[39m]\n",
      "\u001b[0;31mNameError\u001b[0m: name 'df_drug' is not defined"
     ]
    }
   ],
   "source": [
    "df_sentiment = df_drug.groupby('sentiment_label').agg(\n",
    "    count=('sentiment_score', 'count'),\n",
    "    avg_value=('sentiment_score', 'mean')\n",
    ")\n",
    "\n",
    "df_sentiment.rename(columns={'count': 'Total Reviews', 'avg_value': 'Avg. Sentiment Score'}, inplace=True)\n",
    "df_sentiment.index.names = ['Sentiment Label']\n",
    "\n",
    "# Define colors for each sentiment label\n",
    "colors = {\n",
    "    'Positive': '#00CC96',\n",
    "    'Neutral': '#636EFA',\n",
    "    'Negative': '#EF553B'\n",
    "}\n",
    "\n",
    "# Create a pie chart using Plotly Express\n",
    "fig = px.pie(\n",
    "    df_sentiment.reset_index(),\n",
    "    names='Sentiment Label',\n",
    "    values='Total Reviews',\n",
    "    color='Sentiment Label',\n",
    "    width=600,\n",
    "    height=600,\n",
    "    color_discrete_map=colors\n",
    ")\n",
    "\n",
    "fig.update_traces(\n",
    "    hoverinfo='label+value',\n",
    "    textinfo='label+percent'\n",
    ")\n",
    "fig.update_layout(\n",
    "    title_text=f'{drug.capitalize()} Sentiment Analysis',\n",
    "    title_x=0.5,\n",
    "    title_font_size=30)"
   ]
  },
  {
   "cell_type": "code",
   "execution_count": null,
   "id": "df1a8775",
   "metadata": {},
   "outputs": [
    {
     "name": "stdout",
     "output_type": "stream",
     "text": [
      "Collecting scikit-learn\n",
      "  Obtaining dependency information for scikit-learn from https://files.pythonhosted.org/packages/c4/b7/2e35f8e289ab70108f8cbb2e7a2208f0575dc704749721286519dcf35f6f/scikit_learn-1.6.1-cp312-cp312-macosx_12_0_arm64.whl.metadata\n",
      "  Downloading scikit_learn-1.6.1-cp312-cp312-macosx_12_0_arm64.whl.metadata (31 kB)\n",
      "Requirement already satisfied: numpy>=1.19.5 in ./.venv/lib/python3.12/site-packages (from scikit-learn) (2.2.2)\n",
      "Collecting scipy>=1.6.0 (from scikit-learn)\n",
      "  Obtaining dependency information for scipy>=1.6.0 from https://files.pythonhosted.org/packages/c4/5e/b1b0124be8e76f87115f16b8915003eec4b7060298117715baf13f51942c/scipy-1.15.1-cp312-cp312-macosx_14_0_arm64.whl.metadata\n",
      "  Downloading scipy-1.15.1-cp312-cp312-macosx_14_0_arm64.whl.metadata (61 kB)\n",
      "\u001b[2K     \u001b[90m━━━━━━━━━━━━━━━━━━━━━━━━━━━━━━━━━━━━━━━━\u001b[0m \u001b[32m62.0/62.0 kB\u001b[0m \u001b[31m5.3 MB/s\u001b[0m eta \u001b[36m0:00:00\u001b[0m\n",
      "\u001b[?25hRequirement already satisfied: joblib>=1.2.0 in ./.venv/lib/python3.12/site-packages (from scikit-learn) (1.4.2)\n",
      "Collecting threadpoolctl>=3.1.0 (from scikit-learn)\n",
      "  Obtaining dependency information for threadpoolctl>=3.1.0 from https://files.pythonhosted.org/packages/4b/2c/ffbf7a134b9ab11a67b0cf0726453cedd9c5043a4fe7a35d1cefa9a1bcfb/threadpoolctl-3.5.0-py3-none-any.whl.metadata\n",
      "  Downloading threadpoolctl-3.5.0-py3-none-any.whl.metadata (13 kB)\n",
      "Downloading scikit_learn-1.6.1-cp312-cp312-macosx_12_0_arm64.whl (11.2 MB)\n",
      "\u001b[2K   \u001b[90m━━━━━━━━━━━━━━━━━━━━━━━━━━━━━━━━━━━━━━━━\u001b[0m \u001b[32m11.2/11.2 MB\u001b[0m \u001b[31m36.5 MB/s\u001b[0m eta \u001b[36m0:00:00\u001b[0m00:01\u001b[0m00:01\u001b[0m\n",
      "\u001b[?25hDownloading scipy-1.15.1-cp312-cp312-macosx_14_0_arm64.whl (24.9 MB)\n",
      "\u001b[2K   \u001b[90m━━━━━━━━━━━━━━━━━━━━━━━━━━━━━━━━━━━━━━━━\u001b[0m \u001b[32m24.9/24.9 MB\u001b[0m \u001b[31m35.0 MB/s\u001b[0m eta \u001b[36m0:00:00\u001b[0m00:01\u001b[0m00:01\u001b[0m\n",
      "\u001b[?25hDownloading threadpoolctl-3.5.0-py3-none-any.whl (18 kB)\n",
      "Installing collected packages: threadpoolctl, scipy, scikit-learn\n",
      "Successfully installed scikit-learn-1.6.1 scipy-1.15.1 threadpoolctl-3.5.0\n",
      "\n",
      "\u001b[1m[\u001b[0m\u001b[34;49mnotice\u001b[0m\u001b[1;39;49m]\u001b[0m\u001b[39;49m A new release of pip is available: \u001b[0m\u001b[31;49m23.2.1\u001b[0m\u001b[39;49m -> \u001b[0m\u001b[32;49m25.0\u001b[0m\n",
      "\u001b[1m[\u001b[0m\u001b[34;49mnotice\u001b[0m\u001b[1;39;49m]\u001b[0m\u001b[39;49m To update, run: \u001b[0m\u001b[32;49mpip install --upgrade pip\u001b[0m\n"
     ]
    }
   ],
   "source": [
    "!pip install scikit-learn"
   ]
  },
  {
   "cell_type": "code",
   "execution_count": null,
   "id": "5246dc45",
   "metadata": {},
   "outputs": [],
   "source": [
    "from nltk import pos_tag"
   ]
  },
  {
   "cell_type": "code",
   "execution_count": null,
   "id": "4d6e8836",
   "metadata": {},
   "outputs": [
    {
     "name": "stderr",
     "output_type": "stream",
     "text": [
      "[nltk_data] Downloading package averaged_perceptron_tagger to\n",
      "[nltk_data]     /Users/hamzanadeemsiddiqui/nltk_data...\n",
      "[nltk_data]   Package averaged_perceptron_tagger is already up-to-\n",
      "[nltk_data]       date!\n",
      "[nltk_data] Downloading package punkt to\n",
      "[nltk_data]     /Users/hamzanadeemsiddiqui/nltk_data...\n",
      "[nltk_data]   Package punkt is already up-to-date!\n"
     ]
    },
    {
     "data": {
      "text/plain": [
       "True"
      ]
     },
     "execution_count": 80,
     "metadata": {},
     "output_type": "execute_result"
    }
   ],
   "source": [
    "import nltk\n",
    "\n",
    "# Download the required POS tagging model\n",
    "nltk.download('averaged_perceptron_tagger')\n",
    "\n",
    "# Also download 'punkt' for word tokenization\n",
    "nltk.download('punkt')\n",
    "\n",
    "\n"
   ]
  },
  {
   "cell_type": "code",
   "execution_count": null,
   "id": "00e9b2f3",
   "metadata": {},
   "outputs": [],
   "source": [
    "drug = 'lexapro'\n",
    "df_drug = df_druglib[df_druglib['urlDrugName'].str.contains(drug)]"
   ]
  },
  {
   "cell_type": "code",
   "execution_count": null,
   "id": "94b11337",
   "metadata": {},
   "outputs": [
    {
     "name": "stdout",
     "output_type": "stream",
     "text": [
      "1754  different conditions\n",
      "sample:\n",
      "management of congestive heart failure\n",
      "birth prevention\n",
      "menstrual cramps\n",
      "acid reflux\n",
      "fibromyalgia\n",
      "hair loss\n",
      "add\n",
      "depression\n",
      "panic disorder\n",
      "allergies\n"
     ]
    }
   ],
   "source": [
    "conditions=df_druglib['condition'].unique()\n",
    "print(len(conditions),' different conditions')\n",
    "print('sample:')\n",
    "for condition in conditions[:10]:\n",
    "    print(condition)"
   ]
  },
  {
   "cell_type": "code",
   "execution_count": null,
   "id": "159ae01c",
   "metadata": {},
   "outputs": [
    {
     "name": "stderr",
     "output_type": "stream",
     "text": [
      "/var/folders/7t/gd3v4bcx0p3__qld0yj8_2rh0000gn/T/ipykernel_38377/883454326.py:5: FutureWarning:\n",
      "\n",
      "The provided callable <function mean at 0x104679ee0> is currently using SeriesGroupBy.mean. In a future version of pandas, the provided callable will be used directly. To keep current behavior pass the string \"mean\" instead.\n",
      "\n",
      "/var/folders/7t/gd3v4bcx0p3__qld0yj8_2rh0000gn/T/ipykernel_38377/883454326.py:5: FutureWarning:\n",
      "\n",
      "The provided callable <function mean at 0x104679ee0> is currently using SeriesGroupBy.mean. In a future version of pandas, the provided callable will be used directly. To keep current behavior pass the string \"mean\" instead.\n",
      "\n",
      "/var/folders/7t/gd3v4bcx0p3__qld0yj8_2rh0000gn/T/ipykernel_38377/883454326.py:5: FutureWarning:\n",
      "\n",
      "The provided callable <function sum at 0x104678ae0> is currently using SeriesGroupBy.sum. In a future version of pandas, the provided callable will be used directly. To keep current behavior pass the string \"sum\" instead.\n",
      "\n"
     ]
    },
    {
     "data": {
      "text/html": [
       "<div>\n",
       "<style scoped>\n",
       "    .dataframe tbody tr th:only-of-type {\n",
       "        vertical-align: middle;\n",
       "    }\n",
       "\n",
       "    .dataframe tbody tr th {\n",
       "        vertical-align: top;\n",
       "    }\n",
       "\n",
       "    .dataframe thead th {\n",
       "        text-align: right;\n",
       "    }\n",
       "</style>\n",
       "<table border=\"1\" class=\"dataframe\">\n",
       "  <thead>\n",
       "    <tr style=\"text-align: right;\">\n",
       "      <th></th>\n",
       "      <th>effectiveness</th>\n",
       "      <th>sideEffects</th>\n",
       "      <th>reviews</th>\n",
       "      <th>popularity</th>\n",
       "    </tr>\n",
       "    <tr>\n",
       "      <th>urlDrugName</th>\n",
       "      <th></th>\n",
       "      <th></th>\n",
       "      <th></th>\n",
       "      <th></th>\n",
       "    </tr>\n",
       "  </thead>\n",
       "  <tbody>\n",
       "    <tr>\n",
       "      <th>accutane</th>\n",
       "      <td>4.511628</td>\n",
       "      <td>2.860465</td>\n",
       "      <td>43</td>\n",
       "      <td>333</td>\n",
       "    </tr>\n",
       "    <tr>\n",
       "      <th>differin</th>\n",
       "      <td>3.419355</td>\n",
       "      <td>2.064516</td>\n",
       "      <td>31</td>\n",
       "      <td>215</td>\n",
       "    </tr>\n",
       "    <tr>\n",
       "      <th>retin-a</th>\n",
       "      <td>3.966667</td>\n",
       "      <td>2.333333</td>\n",
       "      <td>30</td>\n",
       "      <td>231</td>\n",
       "    </tr>\n",
       "    <tr>\n",
       "      <th>retin-a-micro</th>\n",
       "      <td>3.750000</td>\n",
       "      <td>2.500000</td>\n",
       "      <td>20</td>\n",
       "      <td>146</td>\n",
       "    </tr>\n",
       "    <tr>\n",
       "      <th>minocycline</th>\n",
       "      <td>3.222222</td>\n",
       "      <td>2.333333</td>\n",
       "      <td>18</td>\n",
       "      <td>101</td>\n",
       "    </tr>\n",
       "    <tr>\n",
       "      <th>doxycycline</th>\n",
       "      <td>3.928571</td>\n",
       "      <td>2.785714</td>\n",
       "      <td>14</td>\n",
       "      <td>94</td>\n",
       "    </tr>\n",
       "    <tr>\n",
       "      <th>tazorac</th>\n",
       "      <td>4.000000</td>\n",
       "      <td>2.615385</td>\n",
       "      <td>13</td>\n",
       "      <td>98</td>\n",
       "    </tr>\n",
       "    <tr>\n",
       "      <th>spironolactone</th>\n",
       "      <td>4.333333</td>\n",
       "      <td>2.333333</td>\n",
       "      <td>12</td>\n",
       "      <td>98</td>\n",
       "    </tr>\n",
       "    <tr>\n",
       "      <th>renova</th>\n",
       "      <td>3.727273</td>\n",
       "      <td>2.272727</td>\n",
       "      <td>11</td>\n",
       "      <td>88</td>\n",
       "    </tr>\n",
       "    <tr>\n",
       "      <th>sotret</th>\n",
       "      <td>4.700000</td>\n",
       "      <td>3.100000</td>\n",
       "      <td>10</td>\n",
       "      <td>80</td>\n",
       "    </tr>\n",
       "  </tbody>\n",
       "</table>\n",
       "</div>"
      ],
      "text/plain": [
       "                effectiveness  sideEffects  reviews  popularity\n",
       "urlDrugName                                                    \n",
       "accutane             4.511628     2.860465       43         333\n",
       "differin             3.419355     2.064516       31         215\n",
       "retin-a              3.966667     2.333333       30         231\n",
       "retin-a-micro        3.750000     2.500000       20         146\n",
       "minocycline          3.222222     2.333333       18         101\n",
       "doxycycline          3.928571     2.785714       14          94\n",
       "tazorac              4.000000     2.615385       13          98\n",
       "spironolactone       4.333333     2.333333       12          98\n",
       "renova               3.727273     2.272727       11          88\n",
       "sotret               4.700000     3.100000       10          80"
      ]
     },
     "execution_count": 71,
     "metadata": {},
     "output_type": "execute_result"
    }
   ],
   "source": [
    "keyword = 'acne'\n",
    "\n",
    "filtered_df = df_druglib[df_druglib['condition'].str.contains(keyword)]\n",
    "\n",
    "filtered_df.groupby('urlDrugName').agg(\n",
    "    effectiveness=('effectiveness_rank', np.mean),\n",
    "    sideEffects=('sideEffects_rank', np.mean),\n",
    "    reviews=('commentsReview', 'count'),\n",
    "    popularity=('rating', np.sum)\n",
    ").sort_values(by='reviews', ascending=False).head(10)"
   ]
  },
  {
   "cell_type": "code",
   "execution_count": null,
   "id": "5d7987e5",
   "metadata": {},
   "outputs": [],
   "source": [
    "drug = 'accutane'\n",
    "df_drug = df_druglib[df_druglib['urlDrugName'].str.contains(drug)]"
   ]
  },
  {
   "cell_type": "code",
   "execution_count": null,
   "id": "5fb7be49",
   "metadata": {},
   "outputs": [],
   "source": [
    "import matplotlib.pyplot as plt\n",
    "from collections import Counter\n",
    "from nltk.tokenize import word_tokenize\n",
    "from wordcloud import WordCloud"
   ]
  },
  {
   "cell_type": "code",
   "execution_count": null,
   "id": "76fdfbdf",
   "metadata": {},
   "outputs": [
    {
     "data": {
      "image/png": "[encoded data removed]",
      "text/plain": [
       "<Figure size 640x480 with 1 Axes>"
      ]
     },
     "metadata": {},
     "output_type": "display_data"
    }
   ],
   "source": [
    "benefits = ' '.join(benefit for benefit in df_drug['cleaned_benefits'])\n",
    "words = word_tokenize(benefits)\n",
    "word_list = Counter([word for word in words]).most_common(50)\n",
    "\n",
    "wc = WordCloud(\n",
    "    width=1280,\n",
    "    height=720,\n",
    "    background_color='white',\n",
    "    colormap='gist_earth'\n",
    "    ).generate_from_frequencies(dict(word_list))\n",
    "\n",
    "plt.imshow(wc)\n",
    "\n",
    "plt.axis('off')\n",
    "plt.margins(x=0, y=0)\n",
    "plt.show()"
   ]
  },
  {
   "cell_type": "code",
   "execution_count": null,
   "id": "34a3ab3a",
   "metadata": {},
   "outputs": [
    {
     "data": {
      "image/png": "[encoded data removed]",
      "text/plain": [
       "<Figure size 640x480 with 1 Axes>"
      ]
     },
     "metadata": {},
     "output_type": "display_data"
    }
   ],
   "source": [
    "side_effects = ' '.join(side_effect for side_effect in df_drug['cleaned_sideEffects'])\n",
    "words = word_tokenize(side_effects)\n",
    "word_list = Counter([word for word in words]).most_common(50)\n",
    "\n",
    "wc = WordCloud(\n",
    "    width=1280,\n",
    "    height=720,\n",
    "    background_color='white',\n",
    "    colormap='inferno'\n",
    "    ).generate_from_frequencies(dict(word_list))\n",
    "\n",
    "plt.imshow(wc)\n",
    "\n",
    "plt.axis('off')\n",
    "plt.margins(x=0, y=0)\n",
    "plt.show()"
   ]
  },
  {
   "cell_type": "code",
   "execution_count": null,
   "id": "9d75388f",
   "metadata": {},
   "outputs": [],
   "source": [
    "df_drugcom_train=pd.read_csv('.venv/drugsComTrain_raw.csv')\n",
    "df_drugcom_test=pd.read_csv('.venv/drugsComTest_raw.csv')"
   ]
  },
  {
   "cell_type": "code",
   "execution_count": null,
   "id": "51d29074",
   "metadata": {},
   "outputs": [
    {
     "data": {
      "text/plain": [
       "(161297, 7)"
      ]
     },
     "execution_count": 12,
     "metadata": {},
     "output_type": "execute_result"
    }
   ],
   "source": [
    "df_drugcom_train.head()\n",
    "df_drugcom_train.shape"
   ]
  },
  {
   "cell_type": "code",
   "execution_count": null,
   "id": "658c2b31",
   "metadata": {},
   "outputs": [
    {
     "data": {
      "text/plain": [
       "(53766, 7)"
      ]
     },
     "execution_count": 14,
     "metadata": {},
     "output_type": "execute_result"
    }
   ],
   "source": [
    "df_drugcom_test.head()\n",
    "df_drugcom_test.shape"
   ]
  },
  {
   "cell_type": "code",
   "execution_count": null,
   "id": "383e33f8",
   "metadata": {},
   "outputs": [
    {
     "data": {
      "text/html": [
       "<div>\n",
       "<style scoped>\n",
       "    .dataframe tbody tr th:only-of-type {\n",
       "        vertical-align: middle;\n",
       "    }\n",
       "\n",
       "    .dataframe tbody tr th {\n",
       "        vertical-align: top;\n",
       "    }\n",
       "\n",
       "    .dataframe thead th {\n",
       "        text-align: right;\n",
       "    }\n",
       "</style>\n",
       "<table border=\"1\" class=\"dataframe\">\n",
       "  <thead>\n",
       "    <tr style=\"text-align: right;\">\n",
       "      <th></th>\n",
       "      <th>Unnamed: 0</th>\n",
       "      <th>drugName</th>\n",
       "      <th>condition</th>\n",
       "      <th>review</th>\n",
       "      <th>rating</th>\n",
       "      <th>date</th>\n",
       "      <th>usefulCount</th>\n",
       "    </tr>\n",
       "  </thead>\n",
       "  <tbody>\n",
       "    <tr>\n",
       "      <th>0</th>\n",
       "      <td>163740</td>\n",
       "      <td>Mirtazapine</td>\n",
       "      <td>Depression</td>\n",
       "      <td>\"I&amp;#039;ve tried a few antidepressants over th...</td>\n",
       "      <td>10.0</td>\n",
       "      <td>February 28, 2012</td>\n",
       "      <td>22</td>\n",
       "    </tr>\n",
       "    <tr>\n",
       "      <th>1</th>\n",
       "      <td>206473</td>\n",
       "      <td>Mesalamine</td>\n",
       "      <td>Crohn's Disease, Maintenance</td>\n",
       "      <td>\"My son has Crohn&amp;#039;s disease and has done ...</td>\n",
       "      <td>8.0</td>\n",
       "      <td>May 17, 2009</td>\n",
       "      <td>17</td>\n",
       "    </tr>\n",
       "    <tr>\n",
       "      <th>2</th>\n",
       "      <td>159672</td>\n",
       "      <td>Bactrim</td>\n",
       "      <td>Urinary Tract Infection</td>\n",
       "      <td>\"Quick reduction of symptoms\"</td>\n",
       "      <td>9.0</td>\n",
       "      <td>September 29, 2017</td>\n",
       "      <td>3</td>\n",
       "    </tr>\n",
       "    <tr>\n",
       "      <th>3</th>\n",
       "      <td>39293</td>\n",
       "      <td>Contrave</td>\n",
       "      <td>Weight Loss</td>\n",
       "      <td>\"Contrave combines drugs that were used for al...</td>\n",
       "      <td>9.0</td>\n",
       "      <td>March 5, 2017</td>\n",
       "      <td>35</td>\n",
       "    </tr>\n",
       "    <tr>\n",
       "      <th>4</th>\n",
       "      <td>97768</td>\n",
       "      <td>Cyclafem 1 / 35</td>\n",
       "      <td>Birth Control</td>\n",
       "      <td>\"I have been on this birth control for one cyc...</td>\n",
       "      <td>9.0</td>\n",
       "      <td>October 22, 2015</td>\n",
       "      <td>4</td>\n",
       "    </tr>\n",
       "    <tr>\n",
       "      <th>...</th>\n",
       "      <td>...</td>\n",
       "      <td>...</td>\n",
       "      <td>...</td>\n",
       "      <td>...</td>\n",
       "      <td>...</td>\n",
       "      <td>...</td>\n",
       "      <td>...</td>\n",
       "    </tr>\n",
       "    <tr>\n",
       "      <th>161292</th>\n",
       "      <td>191035</td>\n",
       "      <td>Campral</td>\n",
       "      <td>Alcohol Dependence</td>\n",
       "      <td>\"I wrote my first report in Mid-October of 201...</td>\n",
       "      <td>10.0</td>\n",
       "      <td>May 31, 2015</td>\n",
       "      <td>125</td>\n",
       "    </tr>\n",
       "    <tr>\n",
       "      <th>161293</th>\n",
       "      <td>127085</td>\n",
       "      <td>Metoclopramide</td>\n",
       "      <td>Nausea/Vomiting</td>\n",
       "      <td>\"I was given this in IV before surgey. I immed...</td>\n",
       "      <td>1.0</td>\n",
       "      <td>November 1, 2011</td>\n",
       "      <td>34</td>\n",
       "    </tr>\n",
       "    <tr>\n",
       "      <th>161294</th>\n",
       "      <td>187382</td>\n",
       "      <td>Orencia</td>\n",
       "      <td>Rheumatoid Arthritis</td>\n",
       "      <td>\"Limited improvement after 4 months, developed...</td>\n",
       "      <td>2.0</td>\n",
       "      <td>March 15, 2014</td>\n",
       "      <td>35</td>\n",
       "    </tr>\n",
       "    <tr>\n",
       "      <th>161295</th>\n",
       "      <td>47128</td>\n",
       "      <td>Thyroid desiccated</td>\n",
       "      <td>Underactive Thyroid</td>\n",
       "      <td>\"I&amp;#039;ve been on thyroid medication 49 years...</td>\n",
       "      <td>10.0</td>\n",
       "      <td>September 19, 2015</td>\n",
       "      <td>79</td>\n",
       "    </tr>\n",
       "    <tr>\n",
       "      <th>161296</th>\n",
       "      <td>215220</td>\n",
       "      <td>Lubiprostone</td>\n",
       "      <td>Constipation, Chronic</td>\n",
       "      <td>\"I&amp;#039;ve had chronic constipation all my adu...</td>\n",
       "      <td>9.0</td>\n",
       "      <td>December 13, 2014</td>\n",
       "      <td>116</td>\n",
       "    </tr>\n",
       "  </tbody>\n",
       "</table>\n",
       "<p>215063 rows × 7 columns</p>\n",
       "</div>"
      ],
      "text/plain": [
       "        Unnamed: 0            drugName                     condition  \\\n",
       "0           163740         Mirtazapine                    Depression   \n",
       "1           206473          Mesalamine  Crohn's Disease, Maintenance   \n",
       "2           159672             Bactrim       Urinary Tract Infection   \n",
       "3            39293            Contrave                   Weight Loss   \n",
       "4            97768     Cyclafem 1 / 35                 Birth Control   \n",
       "...            ...                 ...                           ...   \n",
       "161292      191035             Campral            Alcohol Dependence   \n",
       "161293      127085      Metoclopramide               Nausea/Vomiting   \n",
       "161294      187382             Orencia          Rheumatoid Arthritis   \n",
       "161295       47128  Thyroid desiccated           Underactive Thyroid   \n",
       "161296      215220        Lubiprostone         Constipation, Chronic   \n",
       "\n",
       "                                                   review  rating  \\\n",
       "0       \"I&#039;ve tried a few antidepressants over th...    10.0   \n",
       "1       \"My son has Crohn&#039;s disease and has done ...     8.0   \n",
       "2                           \"Quick reduction of symptoms\"     9.0   \n",
       "3       \"Contrave combines drugs that were used for al...     9.0   \n",
       "4       \"I have been on this birth control for one cyc...     9.0   \n",
       "...                                                   ...     ...   \n",
       "161292  \"I wrote my first report in Mid-October of 201...    10.0   \n",
       "161293  \"I was given this in IV before surgey. I immed...     1.0   \n",
       "161294  \"Limited improvement after 4 months, developed...     2.0   \n",
       "161295  \"I&#039;ve been on thyroid medication 49 years...    10.0   \n",
       "161296  \"I&#039;ve had chronic constipation all my adu...     9.0   \n",
       "\n",
       "                      date  usefulCount  \n",
       "0        February 28, 2012           22  \n",
       "1             May 17, 2009           17  \n",
       "2       September 29, 2017            3  \n",
       "3            March 5, 2017           35  \n",
       "4         October 22, 2015            4  \n",
       "...                    ...          ...  \n",
       "161292        May 31, 2015          125  \n",
       "161293    November 1, 2011           34  \n",
       "161294      March 15, 2014           35  \n",
       "161295  September 19, 2015           79  \n",
       "161296   December 13, 2014          116  \n",
       "\n",
       "[215063 rows x 7 columns]"
      ]
     },
     "execution_count": 16,
     "metadata": {},
     "output_type": "execute_result"
    }
   ],
   "source": [
    "df_com=pd.concat([df_drugcom_test,df_drugcom_train])\n",
    "df_com"
   ]
  },
  {
   "cell_type": "code",
   "execution_count": null,
   "id": "0f579a8c",
   "metadata": {},
   "outputs": [
    {
     "name": "stdout",
     "output_type": "stream",
     "text": [
      "<class 'pandas.core.frame.DataFrame'>\n",
      "Index: 215063 entries, 0 to 161296\n",
      "Data columns (total 7 columns):\n",
      " #   Column       Non-Null Count   Dtype  \n",
      "---  ------       --------------   -----  \n",
      " 0   Unnamed: 0   215063 non-null  int64  \n",
      " 1   drugName     215063 non-null  object \n",
      " 2   condition    213869 non-null  object \n",
      " 3   review       215063 non-null  object \n",
      " 4   rating       215063 non-null  float64\n",
      " 5   date         215063 non-null  object \n",
      " 6   usefulCount  215063 non-null  int64  \n",
      "dtypes: float64(1), int64(2), object(4)\n",
      "memory usage: 13.1+ MB\n"
     ]
    }
   ],
   "source": [
    "df_com.info()"
   ]
  },
  {
   "cell_type": "code",
   "execution_count": null,
   "id": "92a3dd22",
   "metadata": {},
   "outputs": [
    {
     "data": {
      "text/plain": [
       "Unnamed: 0        0\n",
       "drugName          0\n",
       "condition      1194\n",
       "review            0\n",
       "rating            0\n",
       "date              0\n",
       "usefulCount       0\n",
       "dtype: int64"
      ]
     },
     "execution_count": 19,
     "metadata": {},
     "output_type": "execute_result"
    }
   ],
   "source": [
    "df_com.isnull().sum()"
   ]
  },
  {
   "cell_type": "code",
   "execution_count": null,
   "id": "72369c6e",
   "metadata": {},
   "outputs": [
    {
     "data": {
      "text/plain": [
       "(213869, 7)"
      ]
     },
     "execution_count": 22,
     "metadata": {},
     "output_type": "execute_result"
    }
   ],
   "source": [
    "df_Com=df_com.dropna()\n",
    "df_Com.shape"
   ]
  },
  {
   "cell_type": "code",
   "execution_count": null,
   "id": "6857aaab",
   "metadata": {},
   "outputs": [
    {
     "data": {
      "text/html": [
       "<div>\n",
       "<style scoped>\n",
       "    .dataframe tbody tr th:only-of-type {\n",
       "        vertical-align: middle;\n",
       "    }\n",
       "\n",
       "    .dataframe tbody tr th {\n",
       "        vertical-align: top;\n",
       "    }\n",
       "\n",
       "    .dataframe thead th {\n",
       "        text-align: right;\n",
       "    }\n",
       "</style>\n",
       "<table border=\"1\" class=\"dataframe\">\n",
       "  <thead>\n",
       "    <tr style=\"text-align: right;\">\n",
       "      <th></th>\n",
       "      <th>Unnamed: 0</th>\n",
       "      <th>drugName</th>\n",
       "      <th>condition</th>\n",
       "      <th>review</th>\n",
       "      <th>rating</th>\n",
       "      <th>date</th>\n",
       "      <th>usefulCount</th>\n",
       "    </tr>\n",
       "  </thead>\n",
       "  <tbody>\n",
       "    <tr>\n",
       "      <th>0</th>\n",
       "      <td>163740</td>\n",
       "      <td>Mirtazapine</td>\n",
       "      <td>Depression</td>\n",
       "      <td>\"I&amp;#039;ve tried a few antidepressants over th...</td>\n",
       "      <td>10.0</td>\n",
       "      <td>February 28, 2012</td>\n",
       "      <td>22</td>\n",
       "    </tr>\n",
       "    <tr>\n",
       "      <th>1</th>\n",
       "      <td>206473</td>\n",
       "      <td>Mesalamine</td>\n",
       "      <td>Crohn's Disease, Maintenance</td>\n",
       "      <td>\"My son has Crohn&amp;#039;s disease and has done ...</td>\n",
       "      <td>8.0</td>\n",
       "      <td>May 17, 2009</td>\n",
       "      <td>17</td>\n",
       "    </tr>\n",
       "    <tr>\n",
       "      <th>2</th>\n",
       "      <td>159672</td>\n",
       "      <td>Bactrim</td>\n",
       "      <td>Urinary Tract Infection</td>\n",
       "      <td>\"Quick reduction of symptoms\"</td>\n",
       "      <td>9.0</td>\n",
       "      <td>September 29, 2017</td>\n",
       "      <td>3</td>\n",
       "    </tr>\n",
       "    <tr>\n",
       "      <th>3</th>\n",
       "      <td>39293</td>\n",
       "      <td>Contrave</td>\n",
       "      <td>Weight Loss</td>\n",
       "      <td>\"Contrave combines drugs that were used for al...</td>\n",
       "      <td>9.0</td>\n",
       "      <td>March 5, 2017</td>\n",
       "      <td>35</td>\n",
       "    </tr>\n",
       "    <tr>\n",
       "      <th>4</th>\n",
       "      <td>97768</td>\n",
       "      <td>Cyclafem 1 / 35</td>\n",
       "      <td>Birth Control</td>\n",
       "      <td>\"I have been on this birth control for one cyc...</td>\n",
       "      <td>9.0</td>\n",
       "      <td>October 22, 2015</td>\n",
       "      <td>4</td>\n",
       "    </tr>\n",
       "  </tbody>\n",
       "</table>\n",
       "</div>"
      ],
      "text/plain": [
       "   Unnamed: 0         drugName                     condition  \\\n",
       "0      163740      Mirtazapine                    Depression   \n",
       "1      206473       Mesalamine  Crohn's Disease, Maintenance   \n",
       "2      159672          Bactrim       Urinary Tract Infection   \n",
       "3       39293         Contrave                   Weight Loss   \n",
       "4       97768  Cyclafem 1 / 35                 Birth Control   \n",
       "\n",
       "                                              review  rating  \\\n",
       "0  \"I&#039;ve tried a few antidepressants over th...    10.0   \n",
       "1  \"My son has Crohn&#039;s disease and has done ...     8.0   \n",
       "2                      \"Quick reduction of symptoms\"     9.0   \n",
       "3  \"Contrave combines drugs that were used for al...     9.0   \n",
       "4  \"I have been on this birth control for one cyc...     9.0   \n",
       "\n",
       "                 date  usefulCount  \n",
       "0   February 28, 2012           22  \n",
       "1        May 17, 2009           17  \n",
       "2  September 29, 2017            3  \n",
       "3       March 5, 2017           35  \n",
       "4    October 22, 2015            4  "
      ]
     },
     "execution_count": 24,
     "metadata": {},
     "output_type": "execute_result"
    }
   ],
   "source": [
    "df_Com.head()"
   ]
  },
  {
   "cell_type": "code",
   "execution_count": 59,
   "id": "2d862ea1",
   "metadata": {},
   "outputs": [
    {
     "name": "stderr",
     "output_type": "stream",
     "text": [
      "/var/folders/7t/gd3v4bcx0p3__qld0yj8_2rh0000gn/T/ipykernel_41634/2163683622.py:1: SettingWithCopyWarning:\n",
      "\n",
      "\n",
      "A value is trying to be set on a copy of a slice from a DataFrame.\n",
      "Try using .loc[row_indexer,col_indexer] = value instead\n",
      "\n",
      "See the caveats in the documentation: https://pandas.pydata.org/pandas-docs/stable/user_guide/indexing.html#returning-a-view-versus-a-copy\n",
      "\n"
     ]
    }
   ],
   "source": [
    "df_Com['cleaned_review']=df_Com['review'].apply(preprocess_text)"
   ]
  },
  {
   "cell_type": "code",
   "execution_count": 61,
   "id": "c673ba5a",
   "metadata": {},
   "outputs": [
    {
     "name": "stderr",
     "output_type": "stream",
     "text": [
      "/var/folders/7t/gd3v4bcx0p3__qld0yj8_2rh0000gn/T/ipykernel_41634/1805201346.py:20: SettingWithCopyWarning:\n",
      "\n",
      "\n",
      "A value is trying to be set on a copy of a slice from a DataFrame.\n",
      "Try using .loc[row_indexer,col_indexer] = value instead\n",
      "\n",
      "See the caveats in the documentation: https://pandas.pydata.org/pandas-docs/stable/user_guide/indexing.html#returning-a-view-versus-a-copy\n",
      "\n",
      "/var/folders/7t/gd3v4bcx0p3__qld0yj8_2rh0000gn/T/ipykernel_41634/1805201346.py:23: SettingWithCopyWarning:\n",
      "\n",
      "\n",
      "A value is trying to be set on a copy of a slice from a DataFrame.\n",
      "Try using .loc[row_indexer,col_indexer] = value instead\n",
      "\n",
      "See the caveats in the documentation: https://pandas.pydata.org/pandas-docs/stable/user_guide/indexing.html#returning-a-view-versus-a-copy\n",
      "\n"
     ]
    }
   ],
   "source": [
    "sentiment_analyzer(df_Com,'cleaned_review')"
   ]
  },
  {
   "cell_type": "code",
   "execution_count": 62,
   "id": "0ef154dd",
   "metadata": {},
   "outputs": [
    {
     "data": {
      "application/vnd.plotly.v1+json": {
       "config": {
        "plotlyServerURL": "https://plot.ly"
       },
       "data": [
        {
         "customdata": [
          [
           "Negative"
          ],
          [
           "Neutral"
          ],
          [
           "Positive"
          ]
         ],
         "domain": {
          "x": [
           0,
           1
          ],
          "y": [
           0,
           1
          ]
         },
         "hoverinfo": "label+value",
         "hovertemplate": "Sentiment Label=%{customdata[0]}<br>Total Reviews=%{value}<extra></extra>",
         "labels": [
          "Negative",
          "Neutral",
          "Positive"
         ],
         "legendgroup": "",
         "marker": {
          "colors": [
           "#EF553B",
           "#636EFA",
           "#00CC96"
          ]
         },
         "name": "",
         "showlegend": true,
         "textinfo": "label+percent",
         "type": "pie",
         "values": {
          "bdata": "Py4BABHdAAAdOAEA",
          "dtype": "i4"
         }
        }
       ],
       "layout": {
        "height": 600,
        "legend": {
         "tracegroupgap": 0
        },
        "margin": {
         "t": 60
        },
        "template": {
         "data": {
          "bar": [
           {
            "error_x": {
             "color": "#2a3f5f"
            },
            "error_y": {
             "color": "#2a3f5f"
            },
            "marker": {
             "line": {
              "color": "#E5ECF6",
              "width": 0.5
             },
             "pattern": {
              "fillmode": "overlay",
              "size": 10,
              "solidity": 0.2
             }
            },
            "type": "bar"
           }
          ],
          "barpolar": [
           {
            "marker": {
             "line": {
              "color": "#E5ECF6",
              "width": 0.5
             },
             "pattern": {
              "fillmode": "overlay",
              "size": 10,
              "solidity": 0.2
             }
            },
            "type": "barpolar"
           }
          ],
          "carpet": [
           {
            "aaxis": {
             "endlinecolor": "#2a3f5f",
             "gridcolor": "white",
             "linecolor": "white",
             "minorgridcolor": "white",
             "startlinecolor": "#2a3f5f"
            },
            "baxis": {
             "endlinecolor": "#2a3f5f",
             "gridcolor": "white",
             "linecolor": "white",
             "minorgridcolor": "white",
             "startlinecolor": "#2a3f5f"
            },
            "type": "carpet"
           }
          ],
          "choropleth": [
           {
            "colorbar": {
             "outlinewidth": 0,
             "ticks": ""
            },
            "type": "choropleth"
           }
          ],
          "contour": [
           {
            "colorbar": {
             "outlinewidth": 0,
             "ticks": ""
            },
            "colorscale": [
             [
              0,
              "#0d0887"
             ],
             [
              0.1111111111111111,
              "#46039f"
             ],
             [
              0.2222222222222222,
              "#7201a8"
             ],
             [
              0.3333333333333333,
              "#9c179e"
             ],
             [
              0.4444444444444444,
              "#bd3786"
             ],
             [
              0.5555555555555556,
              "#d8576b"
             ],
             [
              0.6666666666666666,
              "#ed7953"
             ],
             [
              0.7777777777777778,
              "#fb9f3a"
             ],
             [
              0.8888888888888888,
              "#fdca26"
             ],
             [
              1,
              "#f0f921"
             ]
            ],
            "type": "contour"
           }
          ],
          "contourcarpet": [
           {
            "colorbar": {
             "outlinewidth": 0,
             "ticks": ""
            },
            "type": "contourcarpet"
           }
          ],
          "heatmap": [
           {
            "colorbar": {
             "outlinewidth": 0,
             "ticks": ""
            },
            "colorscale": [
             [
              0,
              "#0d0887"
             ],
             [
              0.1111111111111111,
              "#46039f"
             ],
             [
              0.2222222222222222,
              "#7201a8"
             ],
             [
              0.3333333333333333,
              "#9c179e"
             ],
             [
              0.4444444444444444,
              "#bd3786"
             ],
             [
              0.5555555555555556,
              "#d8576b"
             ],
             [
              0.6666666666666666,
              "#ed7953"
             ],
             [
              0.7777777777777778,
              "#fb9f3a"
             ],
             [
              0.8888888888888888,
              "#fdca26"
             ],
             [
              1,
              "#f0f921"
             ]
            ],
            "type": "heatmap"
           }
          ],
          "histogram": [
           {
            "marker": {
             "pattern": {
              "fillmode": "overlay",
              "size": 10,
              "solidity": 0.2
             }
            },
            "type": "histogram"
           }
          ],
          "histogram2d": [
           {
            "colorbar": {
             "outlinewidth": 0,
             "ticks": ""
            },
            "colorscale": [
             [
              0,
              "#0d0887"
             ],
             [
              0.1111111111111111,
              "#46039f"
             ],
             [
              0.2222222222222222,
              "#7201a8"
             ],
             [
              0.3333333333333333,
              "#9c179e"
             ],
             [
              0.4444444444444444,
              "#bd3786"
             ],
             [
              0.5555555555555556,
              "#d8576b"
             ],
             [
              0.6666666666666666,
              "#ed7953"
             ],
             [
              0.7777777777777778,
              "#fb9f3a"
             ],
             [
              0.8888888888888888,
              "#fdca26"
             ],
             [
              1,
              "#f0f921"
             ]
            ],
            "type": "histogram2d"
           }
          ],
          "histogram2dcontour": [
           {
            "colorbar": {
             "outlinewidth": 0,
             "ticks": ""
            },
            "colorscale": [
             [
              0,
              "#0d0887"
             ],
             [
              0.1111111111111111,
              "#46039f"
             ],
             [
              0.2222222222222222,
              "#7201a8"
             ],
             [
              0.3333333333333333,
              "#9c179e"
             ],
             [
              0.4444444444444444,
              "#bd3786"
             ],
             [
              0.5555555555555556,
              "#d8576b"
             ],
             [
              0.6666666666666666,
              "#ed7953"
             ],
             [
              0.7777777777777778,
              "#fb9f3a"
             ],
             [
              0.8888888888888888,
              "#fdca26"
             ],
             [
              1,
              "#f0f921"
             ]
            ],
            "type": "histogram2dcontour"
           }
          ],
          "mesh3d": [
           {
            "colorbar": {
             "outlinewidth": 0,
             "ticks": ""
            },
            "type": "mesh3d"
           }
          ],
          "parcoords": [
           {
            "line": {
             "colorbar": {
              "outlinewidth": 0,
              "ticks": ""
             }
            },
            "type": "parcoords"
           }
          ],
          "pie": [
           {
            "automargin": true,
            "type": "pie"
           }
          ],
          "scatter": [
           {
            "fillpattern": {
             "fillmode": "overlay",
             "size": 10,
             "solidity": 0.2
            },
            "type": "scatter"
           }
          ],
          "scatter3d": [
           {
            "line": {
             "colorbar": {
              "outlinewidth": 0,
              "ticks": ""
             }
            },
            "marker": {
             "colorbar": {
              "outlinewidth": 0,
              "ticks": ""
             }
            },
            "type": "scatter3d"
           }
          ],
          "scattercarpet": [
           {
            "marker": {
             "colorbar": {
              "outlinewidth": 0,
              "ticks": ""
             }
            },
            "type": "scattercarpet"
           }
          ],
          "scattergeo": [
           {
            "marker": {
             "colorbar": {
              "outlinewidth": 0,
              "ticks": ""
             }
            },
            "type": "scattergeo"
           }
          ],
          "scattergl": [
           {
            "marker": {
             "colorbar": {
              "outlinewidth": 0,
              "ticks": ""
             }
            },
            "type": "scattergl"
           }
          ],
          "scattermap": [
           {
            "marker": {
             "colorbar": {
              "outlinewidth": 0,
              "ticks": ""
             }
            },
            "type": "scattermap"
           }
          ],
          "scattermapbox": [
           {
            "marker": {
             "colorbar": {
              "outlinewidth": 0,
              "ticks": ""
             }
            },
            "type": "scattermapbox"
           }
          ],
          "scatterpolar": [
           {
            "marker": {
             "colorbar": {
              "outlinewidth": 0,
              "ticks": ""
             }
            },
            "type": "scatterpolar"
           }
          ],
          "scatterpolargl": [
           {
            "marker": {
             "colorbar": {
              "outlinewidth": 0,
              "ticks": ""
             }
            },
            "type": "scatterpolargl"
           }
          ],
          "scatterternary": [
           {
            "marker": {
             "colorbar": {
              "outlinewidth": 0,
              "ticks": ""
             }
            },
            "type": "scatterternary"
           }
          ],
          "surface": [
           {
            "colorbar": {
             "outlinewidth": 0,
             "ticks": ""
            },
            "colorscale": [
             [
              0,
              "#0d0887"
             ],
             [
              0.1111111111111111,
              "#46039f"
             ],
             [
              0.2222222222222222,
              "#7201a8"
             ],
             [
              0.3333333333333333,
              "#9c179e"
             ],
             [
              0.4444444444444444,
              "#bd3786"
             ],
             [
              0.5555555555555556,
              "#d8576b"
             ],
             [
              0.6666666666666666,
              "#ed7953"
             ],
             [
              0.7777777777777778,
              "#fb9f3a"
             ],
             [
              0.8888888888888888,
              "#fdca26"
             ],
             [
              1,
              "#f0f921"
             ]
            ],
            "type": "surface"
           }
          ],
          "table": [
           {
            "cells": {
             "fill": {
              "color": "#EBF0F8"
             },
             "line": {
              "color": "white"
             }
            },
            "header": {
             "fill": {
              "color": "#C8D4E3"
             },
             "line": {
              "color": "white"
             }
            },
            "type": "table"
           }
          ]
         },
         "layout": {
          "annotationdefaults": {
           "arrowcolor": "#2a3f5f",
           "arrowhead": 0,
           "arrowwidth": 1
          },
          "autotypenumbers": "strict",
          "coloraxis": {
           "colorbar": {
            "outlinewidth": 0,
            "ticks": ""
           }
          },
          "colorscale": {
           "diverging": [
            [
             0,
             "#8e0152"
            ],
            [
             0.1,
             "#c51b7d"
            ],
            [
             0.2,
             "#de77ae"
            ],
            [
             0.3,
             "#f1b6da"
            ],
            [
             0.4,
             "#fde0ef"
            ],
            [
             0.5,
             "#f7f7f7"
            ],
            [
             0.6,
             "#e6f5d0"
            ],
            [
             0.7,
             "#b8e186"
            ],
            [
             0.8,
             "#7fbc41"
            ],
            [
             0.9,
             "#4d9221"
            ],
            [
             1,
             "#276419"
            ]
           ],
           "sequential": [
            [
             0,
             "#0d0887"
            ],
            [
             0.1111111111111111,
             "#46039f"
            ],
            [
             0.2222222222222222,
             "#7201a8"
            ],
            [
             0.3333333333333333,
             "#9c179e"
            ],
            [
             0.4444444444444444,
             "#bd3786"
            ],
            [
             0.5555555555555556,
             "#d8576b"
            ],
            [
             0.6666666666666666,
             "#ed7953"
            ],
            [
             0.7777777777777778,
             "#fb9f3a"
            ],
            [
             0.8888888888888888,
             "#fdca26"
            ],
            [
             1,
             "#f0f921"
            ]
           ],
           "sequentialminus": [
            [
             0,
             "#0d0887"
            ],
            [
             0.1111111111111111,
             "#46039f"
            ],
            [
             0.2222222222222222,
             "#7201a8"
            ],
            [
             0.3333333333333333,
             "#9c179e"
            ],
            [
             0.4444444444444444,
             "#bd3786"
            ],
            [
             0.5555555555555556,
             "#d8576b"
            ],
            [
             0.6666666666666666,
             "#ed7953"
            ],
            [
             0.7777777777777778,
             "#fb9f3a"
            ],
            [
             0.8888888888888888,
             "#fdca26"
            ],
            [
             1,
             "#f0f921"
            ]
           ]
          },
          "colorway": [
           "#636efa",
           "#EF553B",
           "#00cc96",
           "#ab63fa",
           "#FFA15A",
           "#19d3f3",
           "#FF6692",
           "#B6E880",
           "#FF97FF",
           "#FECB52"
          ],
          "font": {
           "color": "#2a3f5f"
          },
          "geo": {
           "bgcolor": "white",
           "lakecolor": "white",
           "landcolor": "#E5ECF6",
           "showlakes": true,
           "showland": true,
           "subunitcolor": "white"
          },
          "hoverlabel": {
           "align": "left"
          },
          "hovermode": "closest",
          "mapbox": {
           "style": "light"
          },
          "paper_bgcolor": "white",
          "plot_bgcolor": "#E5ECF6",
          "polar": {
           "angularaxis": {
            "gridcolor": "white",
            "linecolor": "white",
            "ticks": ""
           },
           "bgcolor": "#E5ECF6",
           "radialaxis": {
            "gridcolor": "white",
            "linecolor": "white",
            "ticks": ""
           }
          },
          "scene": {
           "xaxis": {
            "backgroundcolor": "#E5ECF6",
            "gridcolor": "white",
            "gridwidth": 2,
            "linecolor": "white",
            "showbackground": true,
            "ticks": "",
            "zerolinecolor": "white"
           },
           "yaxis": {
            "backgroundcolor": "#E5ECF6",
            "gridcolor": "white",
            "gridwidth": 2,
            "linecolor": "white",
            "showbackground": true,
            "ticks": "",
            "zerolinecolor": "white"
           },
           "zaxis": {
            "backgroundcolor": "#E5ECF6",
            "gridcolor": "white",
            "gridwidth": 2,
            "linecolor": "white",
            "showbackground": true,
            "ticks": "",
            "zerolinecolor": "white"
           }
          },
          "shapedefaults": {
           "line": {
            "color": "#2a3f5f"
           }
          },
          "ternary": {
           "aaxis": {
            "gridcolor": "white",
            "linecolor": "white",
            "ticks": ""
           },
           "baxis": {
            "gridcolor": "white",
            "linecolor": "white",
            "ticks": ""
           },
           "bgcolor": "#E5ECF6",
           "caxis": {
            "gridcolor": "white",
            "linecolor": "white",
            "ticks": ""
           }
          },
          "title": {
           "x": 0.05
          },
          "xaxis": {
           "automargin": true,
           "gridcolor": "white",
           "linecolor": "white",
           "ticks": "",
           "title": {
            "standoff": 15
           },
           "zerolinecolor": "white",
           "zerolinewidth": 2
          },
          "yaxis": {
           "automargin": true,
           "gridcolor": "white",
           "linecolor": "white",
           "ticks": "",
           "title": {
            "standoff": 15
           },
           "zerolinecolor": "white",
           "zerolinewidth": 2
          }
         }
        },
        "title": {
         "font": {
          "size": 20
         },
         "text": "Review Section Sentiment Analysis",
         "x": 0.5
        },
        "width": 600
       }
      }
     },
     "metadata": {},
     "output_type": "display_data"
    }
   ],
   "source": [
    "df_sentiment = df_Com.groupby('sentiment_label').agg(\n",
    "    count=('sentiment_score', 'count'),\n",
    "    avg_value=('sentiment_score', 'mean')\n",
    ")\n",
    "\n",
    "df_sentiment.rename(columns={'count': 'Total Reviews', 'avg_value': 'Avg. Sentiment Score'}, inplace=True)\n",
    "df_sentiment.index.names = ['Sentiment Label']\n",
    "\n",
    "# Define colors for each sentiment label\n",
    "colors = {\n",
    "    'Positive': '#00CC96',\n",
    "    'Neutral': '#636EFA',\n",
    "    'Negative': '#EF553B'\n",
    "}\n",
    "\n",
    "# Create a pie chart using Plotly Express\n",
    "fig = px.pie(\n",
    "    df_sentiment.reset_index(),\n",
    "    names='Sentiment Label',\n",
    "    values='Total Reviews',\n",
    "    color='Sentiment Label',\n",
    "    width=600,\n",
    "    height=600,\n",
    "    color_discrete_map=colors\n",
    ")\n",
    "\n",
    "fig.update_traces(\n",
    "    hoverinfo='label+value',\n",
    "    textinfo='label+percent'\n",
    ")\n",
    "fig.update_layout(\n",
    "    title_text='Review Section Sentiment Analysis',\n",
    "    title_x=0.5,\n",
    "    title_font_size=20)"
   ]
  },
  {
   "cell_type": "code",
   "execution_count": 63,
   "id": "e3f535b9",
   "metadata": {},
   "outputs": [
    {
     "data": {
      "image/png": "[encoded data removed]",
      "text/plain": [
       "<Figure size 1000x600 with 1 Axes>"
      ]
     },
     "metadata": {},
     "output_type": "display_data"
    }
   ],
   "source": [
    "# Plotting horizontal bar chart\n",
    "sentiment_order = [\n",
    "    'Negative',\n",
    "    'Neutral',\n",
    "    'Positive'\n",
    "]\n",
    "\n",
    "sentiment_color = sns.color_palette(\"Reds\", len(sentiment_order))\n",
    "data_bar2 = df_Com.pivot_table(index='rating',columns='sentiment_label',values='review',aggfunc='count')\n",
    "data_bar2.sort_index()\n",
    "\n",
    "ax = data_bar2.plot(kind='barh',stacked=True,color=['#EF553B','#636EFA','#00CC96'],figsize=(10, 6))\n",
    "\n",
    "plt.title('Drugs.com Sentiment Distribution Across Rating', fontsize=14)\n",
    "plt.ylabel('Rating', fontsize=12)\n",
    "plt.xlabel('Number of Reviews', fontsize=12)\n",
    "\n",
    "# Customize legend\n",
    "handles, labels = ax.get_legend_handles_labels()\n",
    "ax.legend(handles, labels, title='Sentiment', bbox_to_anchor=(1,1.02), loc='upper left')\n",
    "\n",
    "plt.show()"
   ]
  },
  {
   "cell_type": "code",
   "execution_count": 64,
   "id": "cdbbd740",
   "metadata": {},
   "outputs": [
    {
     "data": {
      "image/png": "[encoded data removed]",
      "text/plain": [
       "<Figure size 1000x600 with 1 Axes>"
      ]
     },
     "metadata": {},
     "output_type": "display_data"
    }
   ],
   "source": [
    "# Calculate row-wise sum for normalization\n",
    "row_sums = data_bar2.sum(axis=1)\n",
    "\n",
    "# Calculate percentages\n",
    "data_percent = data_bar2.div(row_sums, axis=0) * 100\n",
    "\n",
    "# Plotting\n",
    "ax = data_percent.plot.barh(stacked=True,color=['#EF553B','#636EFA','#00CC96'],figsize=(10, 6))\n",
    "plt.title('Sentiment Composition', fontsize=14)\n",
    "plt.ylabel('Effectiveness', fontsize=12)\n",
    "plt.xlabel('Percentage (%)', fontsize=12)\n",
    "\n",
    "for c in ax.containers:\n",
    "\n",
    "    # customize the label to account for cases when there might not be a bar section\n",
    "    labels = [f'{w:.2f}%' if (w := v.get_width()) > 0 else '' for v in c ]\n",
    "\n",
    "    # set the bar label\n",
    "    ax.bar_label(c, labels=labels, label_type='center', fontsize=6)\n",
    "\n",
    "ax.legend(bbox_to_anchor=(1,1.02), loc='upper left')\n",
    "\n",
    "plt.show()"
   ]
  },
  {
   "cell_type": "code",
   "execution_count": 65,
   "id": "d452959d",
   "metadata": {},
   "outputs": [
    {
     "data": {
      "text/html": [
       "<div>\n",
       "<style scoped>\n",
       "    .dataframe tbody tr th:only-of-type {\n",
       "        vertical-align: middle;\n",
       "    }\n",
       "\n",
       "    .dataframe tbody tr th {\n",
       "        vertical-align: top;\n",
       "    }\n",
       "\n",
       "    .dataframe thead th {\n",
       "        text-align: right;\n",
       "    }\n",
       "</style>\n",
       "<table border=\"1\" class=\"dataframe\">\n",
       "  <thead>\n",
       "    <tr style=\"text-align: right;\">\n",
       "      <th>sentiment_label</th>\n",
       "      <th>Negative</th>\n",
       "      <th>Neutral</th>\n",
       "      <th>Positive</th>\n",
       "    </tr>\n",
       "    <tr>\n",
       "      <th>rating</th>\n",
       "      <th></th>\n",
       "      <th></th>\n",
       "      <th></th>\n",
       "    </tr>\n",
       "  </thead>\n",
       "  <tbody>\n",
       "    <tr>\n",
       "      <th>1.0</th>\n",
       "      <td>17363</td>\n",
       "      <td>7146</td>\n",
       "      <td>4260</td>\n",
       "    </tr>\n",
       "    <tr>\n",
       "      <th>2.0</th>\n",
       "      <td>4893</td>\n",
       "      <td>2437</td>\n",
       "      <td>1873</td>\n",
       "    </tr>\n",
       "    <tr>\n",
       "      <th>3.0</th>\n",
       "      <td>4211</td>\n",
       "      <td>2368</td>\n",
       "      <td>2083</td>\n",
       "    </tr>\n",
       "    <tr>\n",
       "      <th>4.0</th>\n",
       "      <td>2947</td>\n",
       "      <td>1860</td>\n",
       "      <td>1815</td>\n",
       "    </tr>\n",
       "    <tr>\n",
       "      <th>5.0</th>\n",
       "      <td>4607</td>\n",
       "      <td>3001</td>\n",
       "      <td>3042</td>\n",
       "    </tr>\n",
       "    <tr>\n",
       "      <th>6.0</th>\n",
       "      <td>3191</td>\n",
       "      <td>2456</td>\n",
       "      <td>2756</td>\n",
       "    </tr>\n",
       "    <tr>\n",
       "      <th>7.0</th>\n",
       "      <td>4373</td>\n",
       "      <td>3564</td>\n",
       "      <td>4533</td>\n",
       "    </tr>\n",
       "    <tr>\n",
       "      <th>8.0</th>\n",
       "      <td>7858</td>\n",
       "      <td>6738</td>\n",
       "      <td>10313</td>\n",
       "    </tr>\n",
       "    <tr>\n",
       "      <th>9.0</th>\n",
       "      <td>10435</td>\n",
       "      <td>9567</td>\n",
       "      <td>16497</td>\n",
       "    </tr>\n",
       "    <tr>\n",
       "      <th>10.0</th>\n",
       "      <td>17497</td>\n",
       "      <td>17456</td>\n",
       "      <td>32729</td>\n",
       "    </tr>\n",
       "  </tbody>\n",
       "</table>\n",
       "</div>"
      ],
      "text/plain": [
       "sentiment_label  Negative  Neutral  Positive\n",
       "rating                                      \n",
       "1.0                 17363     7146      4260\n",
       "2.0                  4893     2437      1873\n",
       "3.0                  4211     2368      2083\n",
       "4.0                  2947     1860      1815\n",
       "5.0                  4607     3001      3042\n",
       "6.0                  3191     2456      2756\n",
       "7.0                  4373     3564      4533\n",
       "8.0                  7858     6738     10313\n",
       "9.0                 10435     9567     16497\n",
       "10.0                17497    17456     32729"
      ]
     },
     "execution_count": 65,
     "metadata": {},
     "output_type": "execute_result"
    }
   ],
   "source": [
    "data_bar2"
   ]
  },
  {
   "cell_type": "code",
   "execution_count": 66,
   "id": "d38576f1",
   "metadata": {},
   "outputs": [
    {
     "data": {
      "text/html": [
       "<div>\n",
       "<style scoped>\n",
       "    .dataframe tbody tr th:only-of-type {\n",
       "        vertical-align: middle;\n",
       "    }\n",
       "\n",
       "    .dataframe tbody tr th {\n",
       "        vertical-align: top;\n",
       "    }\n",
       "\n",
       "    .dataframe thead th {\n",
       "        text-align: right;\n",
       "    }\n",
       "</style>\n",
       "<table border=\"1\" class=\"dataframe\">\n",
       "  <thead>\n",
       "    <tr style=\"text-align: right;\">\n",
       "      <th>sentiment_label</th>\n",
       "      <th>Negative</th>\n",
       "      <th>Neutral</th>\n",
       "      <th>Positive</th>\n",
       "    </tr>\n",
       "    <tr>\n",
       "      <th>rating</th>\n",
       "      <th></th>\n",
       "      <th></th>\n",
       "      <th></th>\n",
       "    </tr>\n",
       "  </thead>\n",
       "  <tbody>\n",
       "    <tr>\n",
       "      <th>1.0</th>\n",
       "      <td>60.353158</td>\n",
       "      <td>24.839237</td>\n",
       "      <td>14.807605</td>\n",
       "    </tr>\n",
       "    <tr>\n",
       "      <th>2.0</th>\n",
       "      <td>53.167445</td>\n",
       "      <td>26.480495</td>\n",
       "      <td>20.352059</td>\n",
       "    </tr>\n",
       "    <tr>\n",
       "      <th>3.0</th>\n",
       "      <td>48.614639</td>\n",
       "      <td>27.337797</td>\n",
       "      <td>24.047564</td>\n",
       "    </tr>\n",
       "    <tr>\n",
       "      <th>4.0</th>\n",
       "      <td>44.503171</td>\n",
       "      <td>28.088191</td>\n",
       "      <td>27.408638</td>\n",
       "    </tr>\n",
       "    <tr>\n",
       "      <th>5.0</th>\n",
       "      <td>43.258216</td>\n",
       "      <td>28.178404</td>\n",
       "      <td>28.563380</td>\n",
       "    </tr>\n",
       "    <tr>\n",
       "      <th>6.0</th>\n",
       "      <td>37.974533</td>\n",
       "      <td>29.227657</td>\n",
       "      <td>32.797810</td>\n",
       "    </tr>\n",
       "    <tr>\n",
       "      <th>7.0</th>\n",
       "      <td>35.068164</td>\n",
       "      <td>28.580593</td>\n",
       "      <td>36.351243</td>\n",
       "    </tr>\n",
       "    <tr>\n",
       "      <th>8.0</th>\n",
       "      <td>31.546830</td>\n",
       "      <td>27.050464</td>\n",
       "      <td>41.402706</td>\n",
       "    </tr>\n",
       "    <tr>\n",
       "      <th>9.0</th>\n",
       "      <td>28.589824</td>\n",
       "      <td>26.211677</td>\n",
       "      <td>45.198499</td>\n",
       "    </tr>\n",
       "    <tr>\n",
       "      <th>10.0</th>\n",
       "      <td>25.851777</td>\n",
       "      <td>25.791200</td>\n",
       "      <td>48.357023</td>\n",
       "    </tr>\n",
       "  </tbody>\n",
       "</table>\n",
       "</div>"
      ],
      "text/plain": [
       "sentiment_label   Negative    Neutral   Positive\n",
       "rating                                          \n",
       "1.0              60.353158  24.839237  14.807605\n",
       "2.0              53.167445  26.480495  20.352059\n",
       "3.0              48.614639  27.337797  24.047564\n",
       "4.0              44.503171  28.088191  27.408638\n",
       "5.0              43.258216  28.178404  28.563380\n",
       "6.0              37.974533  29.227657  32.797810\n",
       "7.0              35.068164  28.580593  36.351243\n",
       "8.0              31.546830  27.050464  41.402706\n",
       "9.0              28.589824  26.211677  45.198499\n",
       "10.0             25.851777  25.791200  48.357023"
      ]
     },
     "execution_count": 66,
     "metadata": {},
     "output_type": "execute_result"
    }
   ],
   "source": [
    "data_percent"
   ]
  },
  {
   "cell_type": "code",
   "execution_count": 68,
   "id": "6e1b97ce",
   "metadata": {},
   "outputs": [
    {
     "name": "stdout",
     "output_type": "stream",
     "text": [
      "916  different conditions\n",
      "sample:\n",
      "Birth Control: 38436 reviews\n",
      "Depression: 12164 reviews\n",
      "Pain: 8245 reviews\n",
      "Anxiety: 7812 reviews\n",
      "Acne: 7435 reviews\n",
      "Bipolar Disorde: 5604 reviews\n",
      "Insomnia: 4904 reviews\n",
      "Weight Loss: 4857 reviews\n",
      "Obesity: 4757 reviews\n",
      "ADHD: 4509 reviews\n"
     ]
    }
   ],
   "source": [
    "most_reviewed_med_condition = df_Com.groupby('condition').agg(\n",
    "    reviews=('review', 'count')\n",
    ").sort_values(by='reviews', ascending=False).head(10)\n",
    "\n",
    "conditions = df_Com['condition'].unique()\n",
    "\n",
    "print(len(conditions),' different conditions')\n",
    "print('sample:')\n",
    "\n",
    "for index, row in most_reviewed_med_condition.iterrows():\n",
    "    print(f\"{index}: {row['reviews']} reviews\")"
   ]
  },
  {
   "cell_type": "code",
   "execution_count": null,
   "id": "ab96f4d1",
   "metadata": {},
   "outputs": [],
   "source": []
  }
 ],
 "metadata": {
  "kernelspec": {
   "display_name": "Python 3",
   "language": "python",
   "name": "python3"
  },
  "language_info": {
   "codemirror_mode": {
    "name": "ipython",
    "version": 3
   },
   "file_extension": ".py",
   "mimetype": "text/x-python",
   "name": "python",
   "nbconvert_exporter": "python",
   "pygments_lexer": "ipython3",
   "version": "3.12.0"
  }
 },
 "nbformat": 4,
 "nbformat_minor": 5
}
